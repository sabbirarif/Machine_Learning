{
  "nbformat": 4,
  "nbformat_minor": 0,
  "metadata": {
    "colab": {
      "provenance": [],
      "collapsed_sections": []
    },
    "kernelspec": {
      "name": "python3",
      "display_name": "Python 3"
    },
    "language_info": {
      "name": "python"
    }
  },
  "cells": [
    {
      "cell_type": "code",
      "execution_count": null,
      "metadata": {
        "id": "q0zxKdYN4irT"
      },
      "outputs": [],
      "source": [
        "import numpy as np\n",
        "import pandas as pd\n",
        "import matplotlib.pyplot as plt\n",
        "import seaborn as sns"
      ]
    },
    {
      "cell_type": "code",
      "source": [
        "df= pd.read_csv('/content/drive/MyDrive/Big Data & IOT Lab/Review/Dataset/ObesityDataSet_raw_and_data_sinthetic.arff.csv' )"
      ],
      "metadata": {
        "id": "z2qLoOQI47jZ"
      },
      "execution_count": null,
      "outputs": []
    },
    {
      "cell_type": "code",
      "source": [
        "df.head()"
      ],
      "metadata": {
        "colab": {
          "base_uri": "https://localhost:8080/",
          "height": 206
        },
        "id": "WpVRSHwQ5mqR",
        "outputId": "6d66419b-7cd1-4540-d46d-0ac381f5d970"
      },
      "execution_count": null,
      "outputs": [
        {
          "output_type": "execute_result",
          "data": {
            "text/plain": [
              "   Gender   Age  Height  Weight family_history_with_overweight FAVC  FCVC  \\\n",
              "0  Female  21.0    1.62    64.0                            yes   no   2.0   \n",
              "1  Female  21.0    1.52    56.0                            yes   no   3.0   \n",
              "2    Male  23.0    1.80    77.0                            yes   no   2.0   \n",
              "3    Male  27.0    1.80    87.0                             no   no   3.0   \n",
              "4    Male  22.0    1.78    89.8                             no   no   2.0   \n",
              "\n",
              "   NCP       CAEC SMOKE  CH2O  SCC  FAF  TUE        CALC  \\\n",
              "0  3.0  Sometimes    no   2.0   no  0.0  1.0          no   \n",
              "1  3.0  Sometimes   yes   3.0  yes  3.0  0.0   Sometimes   \n",
              "2  3.0  Sometimes    no   2.0   no  2.0  1.0  Frequently   \n",
              "3  3.0  Sometimes    no   2.0   no  2.0  0.0  Frequently   \n",
              "4  1.0  Sometimes    no   2.0   no  0.0  0.0   Sometimes   \n",
              "\n",
              "                  MTRANS           NObeyesdad  \n",
              "0  Public_Transportation        Normal_Weight  \n",
              "1  Public_Transportation        Normal_Weight  \n",
              "2  Public_Transportation        Normal_Weight  \n",
              "3                Walking   Overweight_Level_I  \n",
              "4  Public_Transportation  Overweight_Level_II  "
            ],
            "text/html": [
              "\n",
              "  <div id=\"df-1d3230d2-0a04-4b22-a198-932912ac266c\">\n",
              "    <div class=\"colab-df-container\">\n",
              "      <div>\n",
              "<style scoped>\n",
              "    .dataframe tbody tr th:only-of-type {\n",
              "        vertical-align: middle;\n",
              "    }\n",
              "\n",
              "    .dataframe tbody tr th {\n",
              "        vertical-align: top;\n",
              "    }\n",
              "\n",
              "    .dataframe thead th {\n",
              "        text-align: right;\n",
              "    }\n",
              "</style>\n",
              "<table border=\"1\" class=\"dataframe\">\n",
              "  <thead>\n",
              "    <tr style=\"text-align: right;\">\n",
              "      <th></th>\n",
              "      <th>Gender</th>\n",
              "      <th>Age</th>\n",
              "      <th>Height</th>\n",
              "      <th>Weight</th>\n",
              "      <th>family_history_with_overweight</th>\n",
              "      <th>FAVC</th>\n",
              "      <th>FCVC</th>\n",
              "      <th>NCP</th>\n",
              "      <th>CAEC</th>\n",
              "      <th>SMOKE</th>\n",
              "      <th>CH2O</th>\n",
              "      <th>SCC</th>\n",
              "      <th>FAF</th>\n",
              "      <th>TUE</th>\n",
              "      <th>CALC</th>\n",
              "      <th>MTRANS</th>\n",
              "      <th>NObeyesdad</th>\n",
              "    </tr>\n",
              "  </thead>\n",
              "  <tbody>\n",
              "    <tr>\n",
              "      <th>0</th>\n",
              "      <td>Female</td>\n",
              "      <td>21.0</td>\n",
              "      <td>1.62</td>\n",
              "      <td>64.0</td>\n",
              "      <td>yes</td>\n",
              "      <td>no</td>\n",
              "      <td>2.0</td>\n",
              "      <td>3.0</td>\n",
              "      <td>Sometimes</td>\n",
              "      <td>no</td>\n",
              "      <td>2.0</td>\n",
              "      <td>no</td>\n",
              "      <td>0.0</td>\n",
              "      <td>1.0</td>\n",
              "      <td>no</td>\n",
              "      <td>Public_Transportation</td>\n",
              "      <td>Normal_Weight</td>\n",
              "    </tr>\n",
              "    <tr>\n",
              "      <th>1</th>\n",
              "      <td>Female</td>\n",
              "      <td>21.0</td>\n",
              "      <td>1.52</td>\n",
              "      <td>56.0</td>\n",
              "      <td>yes</td>\n",
              "      <td>no</td>\n",
              "      <td>3.0</td>\n",
              "      <td>3.0</td>\n",
              "      <td>Sometimes</td>\n",
              "      <td>yes</td>\n",
              "      <td>3.0</td>\n",
              "      <td>yes</td>\n",
              "      <td>3.0</td>\n",
              "      <td>0.0</td>\n",
              "      <td>Sometimes</td>\n",
              "      <td>Public_Transportation</td>\n",
              "      <td>Normal_Weight</td>\n",
              "    </tr>\n",
              "    <tr>\n",
              "      <th>2</th>\n",
              "      <td>Male</td>\n",
              "      <td>23.0</td>\n",
              "      <td>1.80</td>\n",
              "      <td>77.0</td>\n",
              "      <td>yes</td>\n",
              "      <td>no</td>\n",
              "      <td>2.0</td>\n",
              "      <td>3.0</td>\n",
              "      <td>Sometimes</td>\n",
              "      <td>no</td>\n",
              "      <td>2.0</td>\n",
              "      <td>no</td>\n",
              "      <td>2.0</td>\n",
              "      <td>1.0</td>\n",
              "      <td>Frequently</td>\n",
              "      <td>Public_Transportation</td>\n",
              "      <td>Normal_Weight</td>\n",
              "    </tr>\n",
              "    <tr>\n",
              "      <th>3</th>\n",
              "      <td>Male</td>\n",
              "      <td>27.0</td>\n",
              "      <td>1.80</td>\n",
              "      <td>87.0</td>\n",
              "      <td>no</td>\n",
              "      <td>no</td>\n",
              "      <td>3.0</td>\n",
              "      <td>3.0</td>\n",
              "      <td>Sometimes</td>\n",
              "      <td>no</td>\n",
              "      <td>2.0</td>\n",
              "      <td>no</td>\n",
              "      <td>2.0</td>\n",
              "      <td>0.0</td>\n",
              "      <td>Frequently</td>\n",
              "      <td>Walking</td>\n",
              "      <td>Overweight_Level_I</td>\n",
              "    </tr>\n",
              "    <tr>\n",
              "      <th>4</th>\n",
              "      <td>Male</td>\n",
              "      <td>22.0</td>\n",
              "      <td>1.78</td>\n",
              "      <td>89.8</td>\n",
              "      <td>no</td>\n",
              "      <td>no</td>\n",
              "      <td>2.0</td>\n",
              "      <td>1.0</td>\n",
              "      <td>Sometimes</td>\n",
              "      <td>no</td>\n",
              "      <td>2.0</td>\n",
              "      <td>no</td>\n",
              "      <td>0.0</td>\n",
              "      <td>0.0</td>\n",
              "      <td>Sometimes</td>\n",
              "      <td>Public_Transportation</td>\n",
              "      <td>Overweight_Level_II</td>\n",
              "    </tr>\n",
              "  </tbody>\n",
              "</table>\n",
              "</div>\n",
              "      <button class=\"colab-df-convert\" onclick=\"convertToInteractive('df-1d3230d2-0a04-4b22-a198-932912ac266c')\"\n",
              "              title=\"Convert this dataframe to an interactive table.\"\n",
              "              style=\"display:none;\">\n",
              "        \n",
              "  <svg xmlns=\"http://www.w3.org/2000/svg\" height=\"24px\"viewBox=\"0 0 24 24\"\n",
              "       width=\"24px\">\n",
              "    <path d=\"M0 0h24v24H0V0z\" fill=\"none\"/>\n",
              "    <path d=\"M18.56 5.44l.94 2.06.94-2.06 2.06-.94-2.06-.94-.94-2.06-.94 2.06-2.06.94zm-11 1L8.5 8.5l.94-2.06 2.06-.94-2.06-.94L8.5 2.5l-.94 2.06-2.06.94zm10 10l.94 2.06.94-2.06 2.06-.94-2.06-.94-.94-2.06-.94 2.06-2.06.94z\"/><path d=\"M17.41 7.96l-1.37-1.37c-.4-.4-.92-.59-1.43-.59-.52 0-1.04.2-1.43.59L10.3 9.45l-7.72 7.72c-.78.78-.78 2.05 0 2.83L4 21.41c.39.39.9.59 1.41.59.51 0 1.02-.2 1.41-.59l7.78-7.78 2.81-2.81c.8-.78.8-2.07 0-2.86zM5.41 20L4 18.59l7.72-7.72 1.47 1.35L5.41 20z\"/>\n",
              "  </svg>\n",
              "      </button>\n",
              "      \n",
              "  <style>\n",
              "    .colab-df-container {\n",
              "      display:flex;\n",
              "      flex-wrap:wrap;\n",
              "      gap: 12px;\n",
              "    }\n",
              "\n",
              "    .colab-df-convert {\n",
              "      background-color: #E8F0FE;\n",
              "      border: none;\n",
              "      border-radius: 50%;\n",
              "      cursor: pointer;\n",
              "      display: none;\n",
              "      fill: #1967D2;\n",
              "      height: 32px;\n",
              "      padding: 0 0 0 0;\n",
              "      width: 32px;\n",
              "    }\n",
              "\n",
              "    .colab-df-convert:hover {\n",
              "      background-color: #E2EBFA;\n",
              "      box-shadow: 0px 1px 2px rgba(60, 64, 67, 0.3), 0px 1px 3px 1px rgba(60, 64, 67, 0.15);\n",
              "      fill: #174EA6;\n",
              "    }\n",
              "\n",
              "    [theme=dark] .colab-df-convert {\n",
              "      background-color: #3B4455;\n",
              "      fill: #D2E3FC;\n",
              "    }\n",
              "\n",
              "    [theme=dark] .colab-df-convert:hover {\n",
              "      background-color: #434B5C;\n",
              "      box-shadow: 0px 1px 3px 1px rgba(0, 0, 0, 0.15);\n",
              "      filter: drop-shadow(0px 1px 2px rgba(0, 0, 0, 0.3));\n",
              "      fill: #FFFFFF;\n",
              "    }\n",
              "  </style>\n",
              "\n",
              "      <script>\n",
              "        const buttonEl =\n",
              "          document.querySelector('#df-1d3230d2-0a04-4b22-a198-932912ac266c button.colab-df-convert');\n",
              "        buttonEl.style.display =\n",
              "          google.colab.kernel.accessAllowed ? 'block' : 'none';\n",
              "\n",
              "        async function convertToInteractive(key) {\n",
              "          const element = document.querySelector('#df-1d3230d2-0a04-4b22-a198-932912ac266c');\n",
              "          const dataTable =\n",
              "            await google.colab.kernel.invokeFunction('convertToInteractive',\n",
              "                                                     [key], {});\n",
              "          if (!dataTable) return;\n",
              "\n",
              "          const docLinkHtml = 'Like what you see? Visit the ' +\n",
              "            '<a target=\"_blank\" href=https://colab.research.google.com/notebooks/data_table.ipynb>data table notebook</a>'\n",
              "            + ' to learn more about interactive tables.';\n",
              "          element.innerHTML = '';\n",
              "          dataTable['output_type'] = 'display_data';\n",
              "          await google.colab.output.renderOutput(dataTable, element);\n",
              "          const docLink = document.createElement('div');\n",
              "          docLink.innerHTML = docLinkHtml;\n",
              "          element.appendChild(docLink);\n",
              "        }\n",
              "      </script>\n",
              "    </div>\n",
              "  </div>\n",
              "  "
            ]
          },
          "metadata": {},
          "execution_count": 4
        }
      ]
    },
    {
      "cell_type": "code",
      "source": [
        "df.shape"
      ],
      "metadata": {
        "colab": {
          "base_uri": "https://localhost:8080/"
        },
        "id": "oHTAWZr75qZX",
        "outputId": "2b637928-5b7d-42e5-edad-b998fff92718"
      },
      "execution_count": null,
      "outputs": [
        {
          "output_type": "execute_result",
          "data": {
            "text/plain": [
              "(2111, 17)"
            ]
          },
          "metadata": {},
          "execution_count": 5
        }
      ]
    },
    {
      "cell_type": "code",
      "source": [
        "df.describe(include='all' )"
      ],
      "metadata": {
        "colab": {
          "base_uri": "https://localhost:8080/",
          "height": 394
        },
        "id": "yurgqrAZ6I8I",
        "outputId": "7c02e584-f7b1-4df5-aa3e-760806691478"
      },
      "execution_count": null,
      "outputs": [
        {
          "output_type": "execute_result",
          "data": {
            "text/plain": [
              "       Gender          Age       Height       Weight  \\\n",
              "count    2111  2111.000000  2111.000000  2111.000000   \n",
              "unique      2          NaN          NaN          NaN   \n",
              "top      Male          NaN          NaN          NaN   \n",
              "freq     1068          NaN          NaN          NaN   \n",
              "mean      NaN    24.312600     1.701677    86.586058   \n",
              "std       NaN     6.345968     0.093305    26.191172   \n",
              "min       NaN    14.000000     1.450000    39.000000   \n",
              "25%       NaN    19.947192     1.630000    65.473343   \n",
              "50%       NaN    22.777890     1.700499    83.000000   \n",
              "75%       NaN    26.000000     1.768464   107.430682   \n",
              "max       NaN    61.000000     1.980000   173.000000   \n",
              "\n",
              "       family_history_with_overweight  FAVC         FCVC          NCP  \\\n",
              "count                            2111  2111  2111.000000  2111.000000   \n",
              "unique                              2     2          NaN          NaN   \n",
              "top                               yes   yes          NaN          NaN   \n",
              "freq                             1726  1866          NaN          NaN   \n",
              "mean                              NaN   NaN     2.419043     2.685628   \n",
              "std                               NaN   NaN     0.533927     0.778039   \n",
              "min                               NaN   NaN     1.000000     1.000000   \n",
              "25%                               NaN   NaN     2.000000     2.658738   \n",
              "50%                               NaN   NaN     2.385502     3.000000   \n",
              "75%                               NaN   NaN     3.000000     3.000000   \n",
              "max                               NaN   NaN     3.000000     4.000000   \n",
              "\n",
              "             CAEC SMOKE         CH2O   SCC          FAF          TUE  \\\n",
              "count        2111  2111  2111.000000  2111  2111.000000  2111.000000   \n",
              "unique          4     2          NaN     2          NaN          NaN   \n",
              "top     Sometimes    no          NaN    no          NaN          NaN   \n",
              "freq         1765  2067          NaN  2015          NaN          NaN   \n",
              "mean          NaN   NaN     2.008011   NaN     1.010298     0.657866   \n",
              "std           NaN   NaN     0.612953   NaN     0.850592     0.608927   \n",
              "min           NaN   NaN     1.000000   NaN     0.000000     0.000000   \n",
              "25%           NaN   NaN     1.584812   NaN     0.124505     0.000000   \n",
              "50%           NaN   NaN     2.000000   NaN     1.000000     0.625350   \n",
              "75%           NaN   NaN     2.477420   NaN     1.666678     1.000000   \n",
              "max           NaN   NaN     3.000000   NaN     3.000000     2.000000   \n",
              "\n",
              "             CALC                 MTRANS      NObeyesdad  \n",
              "count        2111                   2111            2111  \n",
              "unique          4                      5               7  \n",
              "top     Sometimes  Public_Transportation  Obesity_Type_I  \n",
              "freq         1401                   1580             351  \n",
              "mean          NaN                    NaN             NaN  \n",
              "std           NaN                    NaN             NaN  \n",
              "min           NaN                    NaN             NaN  \n",
              "25%           NaN                    NaN             NaN  \n",
              "50%           NaN                    NaN             NaN  \n",
              "75%           NaN                    NaN             NaN  \n",
              "max           NaN                    NaN             NaN  "
            ],
            "text/html": [
              "\n",
              "  <div id=\"df-1b119b6f-46ac-4f15-ab50-dda5cf989db8\">\n",
              "    <div class=\"colab-df-container\">\n",
              "      <div>\n",
              "<style scoped>\n",
              "    .dataframe tbody tr th:only-of-type {\n",
              "        vertical-align: middle;\n",
              "    }\n",
              "\n",
              "    .dataframe tbody tr th {\n",
              "        vertical-align: top;\n",
              "    }\n",
              "\n",
              "    .dataframe thead th {\n",
              "        text-align: right;\n",
              "    }\n",
              "</style>\n",
              "<table border=\"1\" class=\"dataframe\">\n",
              "  <thead>\n",
              "    <tr style=\"text-align: right;\">\n",
              "      <th></th>\n",
              "      <th>Gender</th>\n",
              "      <th>Age</th>\n",
              "      <th>Height</th>\n",
              "      <th>Weight</th>\n",
              "      <th>family_history_with_overweight</th>\n",
              "      <th>FAVC</th>\n",
              "      <th>FCVC</th>\n",
              "      <th>NCP</th>\n",
              "      <th>CAEC</th>\n",
              "      <th>SMOKE</th>\n",
              "      <th>CH2O</th>\n",
              "      <th>SCC</th>\n",
              "      <th>FAF</th>\n",
              "      <th>TUE</th>\n",
              "      <th>CALC</th>\n",
              "      <th>MTRANS</th>\n",
              "      <th>NObeyesdad</th>\n",
              "    </tr>\n",
              "  </thead>\n",
              "  <tbody>\n",
              "    <tr>\n",
              "      <th>count</th>\n",
              "      <td>2111</td>\n",
              "      <td>2111.000000</td>\n",
              "      <td>2111.000000</td>\n",
              "      <td>2111.000000</td>\n",
              "      <td>2111</td>\n",
              "      <td>2111</td>\n",
              "      <td>2111.000000</td>\n",
              "      <td>2111.000000</td>\n",
              "      <td>2111</td>\n",
              "      <td>2111</td>\n",
              "      <td>2111.000000</td>\n",
              "      <td>2111</td>\n",
              "      <td>2111.000000</td>\n",
              "      <td>2111.000000</td>\n",
              "      <td>2111</td>\n",
              "      <td>2111</td>\n",
              "      <td>2111</td>\n",
              "    </tr>\n",
              "    <tr>\n",
              "      <th>unique</th>\n",
              "      <td>2</td>\n",
              "      <td>NaN</td>\n",
              "      <td>NaN</td>\n",
              "      <td>NaN</td>\n",
              "      <td>2</td>\n",
              "      <td>2</td>\n",
              "      <td>NaN</td>\n",
              "      <td>NaN</td>\n",
              "      <td>4</td>\n",
              "      <td>2</td>\n",
              "      <td>NaN</td>\n",
              "      <td>2</td>\n",
              "      <td>NaN</td>\n",
              "      <td>NaN</td>\n",
              "      <td>4</td>\n",
              "      <td>5</td>\n",
              "      <td>7</td>\n",
              "    </tr>\n",
              "    <tr>\n",
              "      <th>top</th>\n",
              "      <td>Male</td>\n",
              "      <td>NaN</td>\n",
              "      <td>NaN</td>\n",
              "      <td>NaN</td>\n",
              "      <td>yes</td>\n",
              "      <td>yes</td>\n",
              "      <td>NaN</td>\n",
              "      <td>NaN</td>\n",
              "      <td>Sometimes</td>\n",
              "      <td>no</td>\n",
              "      <td>NaN</td>\n",
              "      <td>no</td>\n",
              "      <td>NaN</td>\n",
              "      <td>NaN</td>\n",
              "      <td>Sometimes</td>\n",
              "      <td>Public_Transportation</td>\n",
              "      <td>Obesity_Type_I</td>\n",
              "    </tr>\n",
              "    <tr>\n",
              "      <th>freq</th>\n",
              "      <td>1068</td>\n",
              "      <td>NaN</td>\n",
              "      <td>NaN</td>\n",
              "      <td>NaN</td>\n",
              "      <td>1726</td>\n",
              "      <td>1866</td>\n",
              "      <td>NaN</td>\n",
              "      <td>NaN</td>\n",
              "      <td>1765</td>\n",
              "      <td>2067</td>\n",
              "      <td>NaN</td>\n",
              "      <td>2015</td>\n",
              "      <td>NaN</td>\n",
              "      <td>NaN</td>\n",
              "      <td>1401</td>\n",
              "      <td>1580</td>\n",
              "      <td>351</td>\n",
              "    </tr>\n",
              "    <tr>\n",
              "      <th>mean</th>\n",
              "      <td>NaN</td>\n",
              "      <td>24.312600</td>\n",
              "      <td>1.701677</td>\n",
              "      <td>86.586058</td>\n",
              "      <td>NaN</td>\n",
              "      <td>NaN</td>\n",
              "      <td>2.419043</td>\n",
              "      <td>2.685628</td>\n",
              "      <td>NaN</td>\n",
              "      <td>NaN</td>\n",
              "      <td>2.008011</td>\n",
              "      <td>NaN</td>\n",
              "      <td>1.010298</td>\n",
              "      <td>0.657866</td>\n",
              "      <td>NaN</td>\n",
              "      <td>NaN</td>\n",
              "      <td>NaN</td>\n",
              "    </tr>\n",
              "    <tr>\n",
              "      <th>std</th>\n",
              "      <td>NaN</td>\n",
              "      <td>6.345968</td>\n",
              "      <td>0.093305</td>\n",
              "      <td>26.191172</td>\n",
              "      <td>NaN</td>\n",
              "      <td>NaN</td>\n",
              "      <td>0.533927</td>\n",
              "      <td>0.778039</td>\n",
              "      <td>NaN</td>\n",
              "      <td>NaN</td>\n",
              "      <td>0.612953</td>\n",
              "      <td>NaN</td>\n",
              "      <td>0.850592</td>\n",
              "      <td>0.608927</td>\n",
              "      <td>NaN</td>\n",
              "      <td>NaN</td>\n",
              "      <td>NaN</td>\n",
              "    </tr>\n",
              "    <tr>\n",
              "      <th>min</th>\n",
              "      <td>NaN</td>\n",
              "      <td>14.000000</td>\n",
              "      <td>1.450000</td>\n",
              "      <td>39.000000</td>\n",
              "      <td>NaN</td>\n",
              "      <td>NaN</td>\n",
              "      <td>1.000000</td>\n",
              "      <td>1.000000</td>\n",
              "      <td>NaN</td>\n",
              "      <td>NaN</td>\n",
              "      <td>1.000000</td>\n",
              "      <td>NaN</td>\n",
              "      <td>0.000000</td>\n",
              "      <td>0.000000</td>\n",
              "      <td>NaN</td>\n",
              "      <td>NaN</td>\n",
              "      <td>NaN</td>\n",
              "    </tr>\n",
              "    <tr>\n",
              "      <th>25%</th>\n",
              "      <td>NaN</td>\n",
              "      <td>19.947192</td>\n",
              "      <td>1.630000</td>\n",
              "      <td>65.473343</td>\n",
              "      <td>NaN</td>\n",
              "      <td>NaN</td>\n",
              "      <td>2.000000</td>\n",
              "      <td>2.658738</td>\n",
              "      <td>NaN</td>\n",
              "      <td>NaN</td>\n",
              "      <td>1.584812</td>\n",
              "      <td>NaN</td>\n",
              "      <td>0.124505</td>\n",
              "      <td>0.000000</td>\n",
              "      <td>NaN</td>\n",
              "      <td>NaN</td>\n",
              "      <td>NaN</td>\n",
              "    </tr>\n",
              "    <tr>\n",
              "      <th>50%</th>\n",
              "      <td>NaN</td>\n",
              "      <td>22.777890</td>\n",
              "      <td>1.700499</td>\n",
              "      <td>83.000000</td>\n",
              "      <td>NaN</td>\n",
              "      <td>NaN</td>\n",
              "      <td>2.385502</td>\n",
              "      <td>3.000000</td>\n",
              "      <td>NaN</td>\n",
              "      <td>NaN</td>\n",
              "      <td>2.000000</td>\n",
              "      <td>NaN</td>\n",
              "      <td>1.000000</td>\n",
              "      <td>0.625350</td>\n",
              "      <td>NaN</td>\n",
              "      <td>NaN</td>\n",
              "      <td>NaN</td>\n",
              "    </tr>\n",
              "    <tr>\n",
              "      <th>75%</th>\n",
              "      <td>NaN</td>\n",
              "      <td>26.000000</td>\n",
              "      <td>1.768464</td>\n",
              "      <td>107.430682</td>\n",
              "      <td>NaN</td>\n",
              "      <td>NaN</td>\n",
              "      <td>3.000000</td>\n",
              "      <td>3.000000</td>\n",
              "      <td>NaN</td>\n",
              "      <td>NaN</td>\n",
              "      <td>2.477420</td>\n",
              "      <td>NaN</td>\n",
              "      <td>1.666678</td>\n",
              "      <td>1.000000</td>\n",
              "      <td>NaN</td>\n",
              "      <td>NaN</td>\n",
              "      <td>NaN</td>\n",
              "    </tr>\n",
              "    <tr>\n",
              "      <th>max</th>\n",
              "      <td>NaN</td>\n",
              "      <td>61.000000</td>\n",
              "      <td>1.980000</td>\n",
              "      <td>173.000000</td>\n",
              "      <td>NaN</td>\n",
              "      <td>NaN</td>\n",
              "      <td>3.000000</td>\n",
              "      <td>4.000000</td>\n",
              "      <td>NaN</td>\n",
              "      <td>NaN</td>\n",
              "      <td>3.000000</td>\n",
              "      <td>NaN</td>\n",
              "      <td>3.000000</td>\n",
              "      <td>2.000000</td>\n",
              "      <td>NaN</td>\n",
              "      <td>NaN</td>\n",
              "      <td>NaN</td>\n",
              "    </tr>\n",
              "  </tbody>\n",
              "</table>\n",
              "</div>\n",
              "      <button class=\"colab-df-convert\" onclick=\"convertToInteractive('df-1b119b6f-46ac-4f15-ab50-dda5cf989db8')\"\n",
              "              title=\"Convert this dataframe to an interactive table.\"\n",
              "              style=\"display:none;\">\n",
              "        \n",
              "  <svg xmlns=\"http://www.w3.org/2000/svg\" height=\"24px\"viewBox=\"0 0 24 24\"\n",
              "       width=\"24px\">\n",
              "    <path d=\"M0 0h24v24H0V0z\" fill=\"none\"/>\n",
              "    <path d=\"M18.56 5.44l.94 2.06.94-2.06 2.06-.94-2.06-.94-.94-2.06-.94 2.06-2.06.94zm-11 1L8.5 8.5l.94-2.06 2.06-.94-2.06-.94L8.5 2.5l-.94 2.06-2.06.94zm10 10l.94 2.06.94-2.06 2.06-.94-2.06-.94-.94-2.06-.94 2.06-2.06.94z\"/><path d=\"M17.41 7.96l-1.37-1.37c-.4-.4-.92-.59-1.43-.59-.52 0-1.04.2-1.43.59L10.3 9.45l-7.72 7.72c-.78.78-.78 2.05 0 2.83L4 21.41c.39.39.9.59 1.41.59.51 0 1.02-.2 1.41-.59l7.78-7.78 2.81-2.81c.8-.78.8-2.07 0-2.86zM5.41 20L4 18.59l7.72-7.72 1.47 1.35L5.41 20z\"/>\n",
              "  </svg>\n",
              "      </button>\n",
              "      \n",
              "  <style>\n",
              "    .colab-df-container {\n",
              "      display:flex;\n",
              "      flex-wrap:wrap;\n",
              "      gap: 12px;\n",
              "    }\n",
              "\n",
              "    .colab-df-convert {\n",
              "      background-color: #E8F0FE;\n",
              "      border: none;\n",
              "      border-radius: 50%;\n",
              "      cursor: pointer;\n",
              "      display: none;\n",
              "      fill: #1967D2;\n",
              "      height: 32px;\n",
              "      padding: 0 0 0 0;\n",
              "      width: 32px;\n",
              "    }\n",
              "\n",
              "    .colab-df-convert:hover {\n",
              "      background-color: #E2EBFA;\n",
              "      box-shadow: 0px 1px 2px rgba(60, 64, 67, 0.3), 0px 1px 3px 1px rgba(60, 64, 67, 0.15);\n",
              "      fill: #174EA6;\n",
              "    }\n",
              "\n",
              "    [theme=dark] .colab-df-convert {\n",
              "      background-color: #3B4455;\n",
              "      fill: #D2E3FC;\n",
              "    }\n",
              "\n",
              "    [theme=dark] .colab-df-convert:hover {\n",
              "      background-color: #434B5C;\n",
              "      box-shadow: 0px 1px 3px 1px rgba(0, 0, 0, 0.15);\n",
              "      filter: drop-shadow(0px 1px 2px rgba(0, 0, 0, 0.3));\n",
              "      fill: #FFFFFF;\n",
              "    }\n",
              "  </style>\n",
              "\n",
              "      <script>\n",
              "        const buttonEl =\n",
              "          document.querySelector('#df-1b119b6f-46ac-4f15-ab50-dda5cf989db8 button.colab-df-convert');\n",
              "        buttonEl.style.display =\n",
              "          google.colab.kernel.accessAllowed ? 'block' : 'none';\n",
              "\n",
              "        async function convertToInteractive(key) {\n",
              "          const element = document.querySelector('#df-1b119b6f-46ac-4f15-ab50-dda5cf989db8');\n",
              "          const dataTable =\n",
              "            await google.colab.kernel.invokeFunction('convertToInteractive',\n",
              "                                                     [key], {});\n",
              "          if (!dataTable) return;\n",
              "\n",
              "          const docLinkHtml = 'Like what you see? Visit the ' +\n",
              "            '<a target=\"_blank\" href=https://colab.research.google.com/notebooks/data_table.ipynb>data table notebook</a>'\n",
              "            + ' to learn more about interactive tables.';\n",
              "          element.innerHTML = '';\n",
              "          dataTable['output_type'] = 'display_data';\n",
              "          await google.colab.output.renderOutput(dataTable, element);\n",
              "          const docLink = document.createElement('div');\n",
              "          docLink.innerHTML = docLinkHtml;\n",
              "          element.appendChild(docLink);\n",
              "        }\n",
              "      </script>\n",
              "    </div>\n",
              "  </div>\n",
              "  "
            ]
          },
          "metadata": {},
          "execution_count": 6
        }
      ]
    },
    {
      "cell_type": "code",
      "source": [
        "df.info()"
      ],
      "metadata": {
        "colab": {
          "base_uri": "https://localhost:8080/"
        },
        "id": "EnafPPXA6Rpo",
        "outputId": "f1573cfe-5895-4988-d604-7ed754b6ae60"
      },
      "execution_count": null,
      "outputs": [
        {
          "output_type": "stream",
          "name": "stdout",
          "text": [
            "<class 'pandas.core.frame.DataFrame'>\n",
            "RangeIndex: 2111 entries, 0 to 2110\n",
            "Data columns (total 17 columns):\n",
            " #   Column                          Non-Null Count  Dtype  \n",
            "---  ------                          --------------  -----  \n",
            " 0   Gender                          2111 non-null   object \n",
            " 1   Age                             2111 non-null   float64\n",
            " 2   Height                          2111 non-null   float64\n",
            " 3   Weight                          2111 non-null   float64\n",
            " 4   family_history_with_overweight  2111 non-null   object \n",
            " 5   FAVC                            2111 non-null   object \n",
            " 6   FCVC                            2111 non-null   float64\n",
            " 7   NCP                             2111 non-null   float64\n",
            " 8   CAEC                            2111 non-null   object \n",
            " 9   SMOKE                           2111 non-null   object \n",
            " 10  CH2O                            2111 non-null   float64\n",
            " 11  SCC                             2111 non-null   object \n",
            " 12  FAF                             2111 non-null   float64\n",
            " 13  TUE                             2111 non-null   float64\n",
            " 14  CALC                            2111 non-null   object \n",
            " 15  MTRANS                          2111 non-null   object \n",
            " 16  NObeyesdad                      2111 non-null   object \n",
            "dtypes: float64(8), object(9)\n",
            "memory usage: 280.5+ KB\n"
          ]
        }
      ]
    },
    {
      "cell_type": "code",
      "source": [
        "sns.countplot(x=\"NObeyesdad\", data=df)"
      ],
      "metadata": {
        "colab": {
          "base_uri": "https://localhost:8080/",
          "height": 297
        },
        "id": "Qts8tLbL6cdJ",
        "outputId": "d2aeceb3-0a21-4369-9ab4-af0ce1678f13"
      },
      "execution_count": null,
      "outputs": [
        {
          "output_type": "execute_result",
          "data": {
            "text/plain": [
              "<matplotlib.axes._subplots.AxesSubplot at 0x7fd8a23ee490>"
            ]
          },
          "metadata": {},
          "execution_count": 8
        },
        {
          "output_type": "display_data",
          "data": {
            "text/plain": [
              "<Figure size 432x288 with 1 Axes>"
            ],
            "image/png": "[encoded data removed]"
          },
          "metadata": {
            "needs_background": "light"
          }
        }
      ]
    },
    {
      "cell_type": "code",
      "source": [
        "from sklearn.model_selection import train_test_split"
      ],
      "metadata": {
        "id": "NaDYOIbaoeyj"
      },
      "execution_count": null,
      "outputs": []
    },
    {
      "cell_type": "code",
      "source": [
        "X_train, X_test, y_train, y_test = train_test_split(X, y, test_size= 0.2, random_state=0)"
      ],
      "metadata": {
        "id": "HBtdPXN8ozra"
      },
      "execution_count": null,
      "outputs": []
    },
    {
      "cell_type": "code",
      "source": [
        "print (X_train.shape, X_test.shape, y_train.shape, y_test.shape)"
      ],
      "metadata": {
        "colab": {
          "base_uri": "https://localhost:8080/"
        },
        "id": "tO-gp2Mro2U6",
        "outputId": "e41def59-d225-45cd-c9d2-2447cfd28267"
      },
      "execution_count": null,
      "outputs": [
        {
          "output_type": "stream",
          "name": "stdout",
          "text": [
            "(1688, 1) (423, 1) (1688,) (423,)\n"
          ]
        }
      ]
    },
    {
      "cell_type": "code",
      "source": [
        "clf_LR= LogisticRegression()\n",
        "clf_LR.fit(X_train,y_train)"
      ],
      "metadata": {
        "colab": {
          "base_uri": "https://localhost:8080/"
        },
        "id": "zhrLPfn3o5aC",
        "outputId": "743d1a71-7c77-4929-b3f6-45102b1b3c1f"
      },
      "execution_count": null,
      "outputs": [
        {
          "output_type": "stream",
          "name": "stderr",
          "text": [
            "/usr/local/lib/python3.7/dist-packages/sklearn/linear_model/_logistic.py:818: ConvergenceWarning: lbfgs failed to converge (status=1):\n",
            "STOP: TOTAL NO. of ITERATIONS REACHED LIMIT.\n",
            "\n",
            "Increase the number of iterations (max_iter) or scale the data as shown in:\n",
            "    https://scikit-learn.org/stable/modules/preprocessing.html\n",
            "Please also refer to the documentation for alternative solver options:\n",
            "    https://scikit-learn.org/stable/modules/linear_model.html#logistic-regression\n",
            "  extra_warning_msg=_LOGISTIC_SOLVER_CONVERGENCE_MSG,\n"
          ]
        },
        {
          "output_type": "execute_result",
          "data": {
            "text/plain": [
              "LogisticRegression()"
            ]
          },
          "metadata": {},
          "execution_count": 28
        }
      ]
    },
    {
      "cell_type": "code",
      "source": [
        "y_test_pred= clf_LR.predict(X_test)"
      ],
      "metadata": {
        "id": "L0Xxlz1mo8xq"
      },
      "execution_count": null,
      "outputs": []
    },
    {
      "cell_type": "code",
      "source": [
        "y_test_pred"
      ],
      "metadata": {
        "colab": {
          "base_uri": "https://localhost:8080/"
        },
        "id": "UpnD2IyYz-bO",
        "outputId": "5cd39212-525e-4326-d9cf-51f913cc06fa"
      },
      "execution_count": null,
      "outputs": [
        {
          "output_type": "execute_result",
          "data": {
            "text/plain": [
              "array(['Obesity_Type_III', 'Obesity_Type_I', 'Obesity_Type_I',\n",
              "       'Obesity_Type_III', 'Obesity_Type_III', 'Obesity_Type_II',\n",
              "       'Normal_Weight', 'Obesity_Type_I', 'Overweight_Level_II',\n",
              "       'Obesity_Type_II', 'Obesity_Type_II', 'Overweight_Level_II',\n",
              "       'Normal_Weight', 'Obesity_Type_I', 'Normal_Weight',\n",
              "       'Obesity_Type_II', 'Overweight_Level_I', 'Obesity_Type_I',\n",
              "       'Overweight_Level_I', 'Overweight_Level_I', 'Obesity_Type_III',\n",
              "       'Obesity_Type_III', 'Obesity_Type_II', 'Overweight_Level_II',\n",
              "       'Obesity_Type_I', 'Obesity_Type_III', 'Obesity_Type_III',\n",
              "       'Overweight_Level_II', 'Overweight_Level_II', 'Obesity_Type_III',\n",
              "       'Overweight_Level_I', 'Normal_Weight', 'Overweight_Level_II',\n",
              "       'Overweight_Level_II', 'Obesity_Type_III', 'Overweight_Level_I',\n",
              "       'Overweight_Level_II', 'Insufficient_Weight', 'Normal_Weight',\n",
              "       'Insufficient_Weight', 'Normal_Weight', 'Overweight_Level_II',\n",
              "       'Insufficient_Weight', 'Overweight_Level_I', 'Obesity_Type_II',\n",
              "       'Obesity_Type_I', 'Obesity_Type_I', 'Insufficient_Weight',\n",
              "       'Obesity_Type_III', 'Insufficient_Weight', 'Normal_Weight',\n",
              "       'Obesity_Type_III', 'Obesity_Type_II', 'Overweight_Level_I',\n",
              "       'Obesity_Type_I', 'Obesity_Type_I', 'Overweight_Level_I',\n",
              "       'Overweight_Level_I', 'Obesity_Type_I', 'Normal_Weight',\n",
              "       'Obesity_Type_I', 'Insufficient_Weight', 'Overweight_Level_II',\n",
              "       'Insufficient_Weight', 'Insufficient_Weight', 'Obesity_Type_II',\n",
              "       'Overweight_Level_II', 'Overweight_Level_II',\n",
              "       'Overweight_Level_II', 'Overweight_Level_II',\n",
              "       'Overweight_Level_II', 'Obesity_Type_II', 'Obesity_Type_III',\n",
              "       'Overweight_Level_II', 'Obesity_Type_I', 'Normal_Weight',\n",
              "       'Overweight_Level_II', 'Overweight_Level_I', 'Obesity_Type_III',\n",
              "       'Insufficient_Weight', 'Overweight_Level_II', 'Obesity_Type_I',\n",
              "       'Obesity_Type_I', 'Normal_Weight', 'Obesity_Type_I',\n",
              "       'Overweight_Level_I', 'Insufficient_Weight', 'Obesity_Type_I',\n",
              "       'Obesity_Type_III', 'Obesity_Type_II', 'Overweight_Level_I',\n",
              "       'Insufficient_Weight', 'Insufficient_Weight', 'Obesity_Type_I',\n",
              "       'Overweight_Level_II', 'Obesity_Type_III', 'Overweight_Level_II',\n",
              "       'Obesity_Type_III', 'Obesity_Type_II', 'Obesity_Type_III',\n",
              "       'Insufficient_Weight', 'Obesity_Type_I', 'Insufficient_Weight',\n",
              "       'Overweight_Level_I', 'Obesity_Type_III', 'Obesity_Type_I',\n",
              "       'Overweight_Level_II', 'Obesity_Type_II', 'Overweight_Level_I',\n",
              "       'Normal_Weight', 'Insufficient_Weight', 'Overweight_Level_II',\n",
              "       'Overweight_Level_I', 'Overweight_Level_I', 'Obesity_Type_I',\n",
              "       'Obesity_Type_I', 'Obesity_Type_I', 'Obesity_Type_I',\n",
              "       'Obesity_Type_I', 'Insufficient_Weight', 'Obesity_Type_I',\n",
              "       'Obesity_Type_II', 'Insufficient_Weight', 'Insufficient_Weight',\n",
              "       'Obesity_Type_III', 'Obesity_Type_I', 'Overweight_Level_II',\n",
              "       'Overweight_Level_I', 'Normal_Weight', 'Overweight_Level_II',\n",
              "       'Insufficient_Weight', 'Insufficient_Weight',\n",
              "       'Insufficient_Weight', 'Obesity_Type_I', 'Obesity_Type_I',\n",
              "       'Obesity_Type_III', 'Overweight_Level_I', 'Obesity_Type_III',\n",
              "       'Obesity_Type_II', 'Obesity_Type_III', 'Overweight_Level_II',\n",
              "       'Overweight_Level_II', 'Insufficient_Weight', 'Normal_Weight',\n",
              "       'Insufficient_Weight', 'Normal_Weight', 'Obesity_Type_I',\n",
              "       'Obesity_Type_I', 'Overweight_Level_I', 'Normal_Weight',\n",
              "       'Overweight_Level_I', 'Overweight_Level_I', 'Obesity_Type_I',\n",
              "       'Obesity_Type_I', 'Obesity_Type_II', 'Overweight_Level_I',\n",
              "       'Overweight_Level_II', 'Insufficient_Weight', 'Obesity_Type_II',\n",
              "       'Overweight_Level_II', 'Overweight_Level_II', 'Obesity_Type_III',\n",
              "       'Overweight_Level_II', 'Obesity_Type_II', 'Insufficient_Weight',\n",
              "       'Insufficient_Weight', 'Obesity_Type_I', 'Obesity_Type_II',\n",
              "       'Normal_Weight', 'Obesity_Type_III', 'Normal_Weight',\n",
              "       'Obesity_Type_I', 'Obesity_Type_II', 'Overweight_Level_I',\n",
              "       'Overweight_Level_I', 'Obesity_Type_III', 'Obesity_Type_I',\n",
              "       'Insufficient_Weight', 'Normal_Weight', 'Obesity_Type_II',\n",
              "       'Normal_Weight', 'Overweight_Level_I', 'Obesity_Type_II',\n",
              "       'Obesity_Type_III', 'Obesity_Type_III', 'Insufficient_Weight',\n",
              "       'Normal_Weight', 'Obesity_Type_I', 'Obesity_Type_III',\n",
              "       'Obesity_Type_III', 'Overweight_Level_II', 'Overweight_Level_II',\n",
              "       'Obesity_Type_III', 'Normal_Weight', 'Normal_Weight',\n",
              "       'Obesity_Type_III', 'Obesity_Type_I', 'Obesity_Type_I',\n",
              "       'Overweight_Level_II', 'Overweight_Level_II', 'Normal_Weight',\n",
              "       'Normal_Weight', 'Overweight_Level_I', 'Normal_Weight',\n",
              "       'Obesity_Type_I', 'Overweight_Level_II', 'Obesity_Type_I',\n",
              "       'Overweight_Level_I', 'Obesity_Type_I', 'Insufficient_Weight',\n",
              "       'Normal_Weight', 'Insufficient_Weight', 'Insufficient_Weight',\n",
              "       'Obesity_Type_I', 'Obesity_Type_III', 'Obesity_Type_I',\n",
              "       'Overweight_Level_I', 'Obesity_Type_II', 'Normal_Weight',\n",
              "       'Obesity_Type_II', 'Obesity_Type_III', 'Overweight_Level_I',\n",
              "       'Normal_Weight', 'Insufficient_Weight', 'Obesity_Type_III',\n",
              "       'Obesity_Type_I', 'Overweight_Level_I', 'Obesity_Type_I',\n",
              "       'Obesity_Type_I', 'Insufficient_Weight', 'Obesity_Type_II',\n",
              "       'Obesity_Type_III', 'Overweight_Level_I', 'Obesity_Type_III',\n",
              "       'Insufficient_Weight', 'Obesity_Type_II', 'Normal_Weight',\n",
              "       'Obesity_Type_I', 'Overweight_Level_II', 'Obesity_Type_I',\n",
              "       'Overweight_Level_II', 'Insufficient_Weight', 'Obesity_Type_III',\n",
              "       'Obesity_Type_II', 'Normal_Weight', 'Insufficient_Weight',\n",
              "       'Normal_Weight', 'Obesity_Type_III', 'Overweight_Level_II',\n",
              "       'Normal_Weight', 'Overweight_Level_II', 'Overweight_Level_II',\n",
              "       'Overweight_Level_II', 'Obesity_Type_III', 'Overweight_Level_II',\n",
              "       'Obesity_Type_II', 'Normal_Weight', 'Obesity_Type_III',\n",
              "       'Obesity_Type_I', 'Overweight_Level_I', 'Obesity_Type_II',\n",
              "       'Normal_Weight', 'Normal_Weight', 'Insufficient_Weight',\n",
              "       'Insufficient_Weight', 'Overweight_Level_II', 'Obesity_Type_II',\n",
              "       'Insufficient_Weight', 'Normal_Weight', 'Obesity_Type_II',\n",
              "       'Overweight_Level_II', 'Overweight_Level_II', 'Obesity_Type_II',\n",
              "       'Normal_Weight', 'Obesity_Type_I', 'Obesity_Type_II',\n",
              "       'Insufficient_Weight', 'Normal_Weight', 'Insufficient_Weight',\n",
              "       'Overweight_Level_II', 'Obesity_Type_I', 'Overweight_Level_I',\n",
              "       'Insufficient_Weight', 'Normal_Weight', 'Overweight_Level_I',\n",
              "       'Normal_Weight', 'Overweight_Level_II', 'Obesity_Type_II',\n",
              "       'Obesity_Type_I', 'Obesity_Type_II', 'Obesity_Type_III',\n",
              "       'Obesity_Type_I', 'Overweight_Level_I', 'Obesity_Type_I',\n",
              "       'Obesity_Type_I', 'Overweight_Level_II', 'Insufficient_Weight',\n",
              "       'Normal_Weight', 'Obesity_Type_I', 'Obesity_Type_II',\n",
              "       'Normal_Weight', 'Insufficient_Weight', 'Normal_Weight',\n",
              "       'Insufficient_Weight', 'Obesity_Type_I', 'Obesity_Type_II',\n",
              "       'Overweight_Level_I', 'Insufficient_Weight', 'Insufficient_Weight',\n",
              "       'Insufficient_Weight', 'Normal_Weight', 'Normal_Weight',\n",
              "       'Obesity_Type_I', 'Insufficient_Weight', 'Obesity_Type_I',\n",
              "       'Obesity_Type_II', 'Obesity_Type_III', 'Insufficient_Weight',\n",
              "       'Overweight_Level_I', 'Normal_Weight', 'Obesity_Type_II',\n",
              "       'Obesity_Type_I', 'Obesity_Type_III', 'Obesity_Type_I',\n",
              "       'Obesity_Type_III', 'Obesity_Type_I', 'Obesity_Type_I',\n",
              "       'Insufficient_Weight', 'Insufficient_Weight', 'Normal_Weight',\n",
              "       'Normal_Weight', 'Normal_Weight', 'Insufficient_Weight',\n",
              "       'Insufficient_Weight', 'Insufficient_Weight', 'Normal_Weight',\n",
              "       'Insufficient_Weight', 'Normal_Weight', 'Obesity_Type_III',\n",
              "       'Overweight_Level_II', 'Overweight_Level_II', 'Overweight_Level_I',\n",
              "       'Normal_Weight', 'Insufficient_Weight', 'Insufficient_Weight',\n",
              "       'Obesity_Type_I', 'Overweight_Level_I', 'Obesity_Type_II',\n",
              "       'Obesity_Type_I', 'Normal_Weight', 'Insufficient_Weight',\n",
              "       'Obesity_Type_I', 'Obesity_Type_III', 'Normal_Weight',\n",
              "       'Obesity_Type_II', 'Overweight_Level_II', 'Overweight_Level_II',\n",
              "       'Normal_Weight', 'Obesity_Type_III', 'Overweight_Level_I',\n",
              "       'Obesity_Type_I', 'Insufficient_Weight', 'Obesity_Type_I',\n",
              "       'Obesity_Type_III', 'Obesity_Type_I', 'Insufficient_Weight',\n",
              "       'Obesity_Type_I', 'Obesity_Type_II', 'Insufficient_Weight',\n",
              "       'Obesity_Type_II', 'Obesity_Type_II', 'Obesity_Type_III',\n",
              "       'Normal_Weight', 'Insufficient_Weight', 'Obesity_Type_I',\n",
              "       'Obesity_Type_I', 'Normal_Weight', 'Obesity_Type_I',\n",
              "       'Obesity_Type_II', 'Insufficient_Weight', 'Insufficient_Weight',\n",
              "       'Obesity_Type_II', 'Obesity_Type_I', 'Obesity_Type_I',\n",
              "       'Obesity_Type_II', 'Obesity_Type_I', 'Normal_Weight',\n",
              "       'Normal_Weight', 'Insufficient_Weight', 'Obesity_Type_I',\n",
              "       'Overweight_Level_II', 'Normal_Weight', 'Obesity_Type_III',\n",
              "       'Obesity_Type_I', 'Overweight_Level_II', 'Normal_Weight',\n",
              "       'Obesity_Type_I', 'Normal_Weight', 'Overweight_Level_II',\n",
              "       'Obesity_Type_I', 'Insufficient_Weight', 'Obesity_Type_I',\n",
              "       'Obesity_Type_II', 'Obesity_Type_II', 'Overweight_Level_I',\n",
              "       'Insufficient_Weight', 'Obesity_Type_II', 'Insufficient_Weight',\n",
              "       'Overweight_Level_II', 'Overweight_Level_I', 'Overweight_Level_II',\n",
              "       'Obesity_Type_II', 'Normal_Weight', 'Obesity_Type_I',\n",
              "       'Insufficient_Weight', 'Normal_Weight', 'Overweight_Level_I',\n",
              "       'Overweight_Level_II', 'Normal_Weight', 'Obesity_Type_III',\n",
              "       'Obesity_Type_II', 'Obesity_Type_II', 'Obesity_Type_III'],\n",
              "      dtype=object)"
            ]
          },
          "metadata": {},
          "execution_count": 53
        }
      ]
    },
    {
      "cell_type": "code",
      "source": [
        "from sklearn.metrics import accuracy_score, confusion_matrix"
      ],
      "metadata": {
        "id": "2neMu3moo_RS"
      },
      "execution_count": null,
      "outputs": []
    },
    {
      "cell_type": "code",
      "source": [
        "confusion_matrix(y_test,y_test_pred)"
      ],
      "metadata": {
        "colab": {
          "base_uri": "https://localhost:8080/"
        },
        "id": "6WpESVUgpBMa",
        "outputId": "69e38f07-8753-489a-eea3-8a80f3bb0104"
      },
      "execution_count": null,
      "outputs": [
        {
          "output_type": "execute_result",
          "data": {
            "text/plain": [
              "array([[53, 12,  0,  0,  0,  0,  0],\n",
              "       [17, 29,  0,  0,  0,  9,  2],\n",
              "       [ 0,  0, 32,  6,  1,  6, 22],\n",
              "       [ 0,  0, 16, 16, 21,  0,  0],\n",
              "       [ 0,  0,  9, 30, 30,  0,  0],\n",
              "       [ 0, 17,  6,  0,  0, 22, 12],\n",
              "       [ 0,  7, 20,  0,  0,  6, 22]])"
            ]
          },
          "metadata": {},
          "execution_count": 31
        }
      ]
    },
    {
      "cell_type": "code",
      "source": [
        "accuracy_score(y_test, y_test_pred)"
      ],
      "metadata": {
        "colab": {
          "base_uri": "https://localhost:8080/"
        },
        "id": "7uQurugCpCuK",
        "outputId": "0428c8ce-c9ef-4256-eb7a-1d297c896549"
      },
      "execution_count": null,
      "outputs": [
        {
          "output_type": "execute_result",
          "data": {
            "text/plain": [
              "0.48226950354609927"
            ]
          },
          "metadata": {},
          "execution_count": 32
        }
      ]
    },
    {
      "cell_type": "code",
      "source": [
        "from sklearn import preprocessing\n",
        "scaler = preprocessing.StandardScaler().fit(X_train.values)\n",
        "X_train_s = scaler.transform(X_train.values) "
      ],
      "metadata": {
        "id": "HWl4-ZGkpHxy"
      },
      "execution_count": null,
      "outputs": []
    },
    {
      "cell_type": "code",
      "source": [
        "scaler = preprocessing.StandardScaler().fit(X_test.values)\n",
        "X_test_s = scaler.transform(X_test.values) "
      ],
      "metadata": {
        "id": "Z8fJsFsJpN2y"
      },
      "execution_count": null,
      "outputs": []
    },
    {
      "cell_type": "markdown",
      "source": [
        "# **KNN**"
      ],
      "metadata": {
        "id": "pci1-0ystz0_"
      }
    },
    {
      "cell_type": "code",
      "source": [
        "from sklearn.neighbors import KNeighborsClassifier\n",
        "clf_knn_1 = KNeighborsClassifier(n_neighbors=1)\n",
        "clf_knn_1.fit(X_train_s,y_train)"
      ],
      "metadata": {
        "colab": {
          "base_uri": "https://localhost:8080/"
        },
        "id": "mt1onmSapS2S",
        "outputId": "a4e60f0e-8b37-41ec-db13-3859a4a96806"
      },
      "execution_count": null,
      "outputs": [
        {
          "output_type": "execute_result",
          "data": {
            "text/plain": [
              "KNeighborsClassifier(n_neighbors=1)"
            ]
          },
          "metadata": {},
          "execution_count": 36
        }
      ]
    },
    {
      "cell_type": "code",
      "source": [
        "confusion_matrix(y_test,clf_knn_1.predict(X_test_s))"
      ],
      "metadata": {
        "colab": {
          "base_uri": "https://localhost:8080/"
        },
        "id": "yJdgJkU6pW6a",
        "outputId": "7ec469a3-920d-4f07-d8e8-125265ceddf6"
      },
      "execution_count": null,
      "outputs": [
        {
          "output_type": "execute_result",
          "data": {
            "text/plain": [
              "array([[43, 14,  0,  0,  0,  6,  2],\n",
              "       [18,  9,  2,  0,  0, 16, 12],\n",
              "       [ 0,  0, 21,  6,  7,  9, 24],\n",
              "       [ 0,  0, 12, 29, 12,  0,  0],\n",
              "       [ 0,  0,  6, 17, 46,  0,  0],\n",
              "       [ 2,  2,  6,  0,  0, 20, 27],\n",
              "       [ 0,  1, 13,  1,  0, 15, 25]])"
            ]
          },
          "metadata": {},
          "execution_count": 37
        }
      ]
    },
    {
      "cell_type": "code",
      "source": [
        "accuracy_score(y_test, clf_knn_1.predict(X_test_s))"
      ],
      "metadata": {
        "colab": {
          "base_uri": "https://localhost:8080/"
        },
        "id": "0kdniuK6pZki",
        "outputId": "9a38d7d4-e6ed-474f-a188-6a17a77292cf"
      },
      "execution_count": null,
      "outputs": [
        {
          "output_type": "execute_result",
          "data": {
            "text/plain": [
              "0.4562647754137116"
            ]
          },
          "metadata": {},
          "execution_count": 38
        }
      ]
    },
    {
      "cell_type": "code",
      "source": [
        "clf_knn_3 = KNeighborsClassifier(n_neighbors=3)\n",
        "clf_knn_3.fit(X_train_s,y_train)\n",
        "accuracy_score(y_test, clf_knn_3.predict(X_test_s))"
      ],
      "metadata": {
        "colab": {
          "base_uri": "https://localhost:8080/"
        },
        "id": "lOLsRtRCpcTa",
        "outputId": "76204e91-a55b-4179-b028-01a0efe254ca"
      },
      "execution_count": null,
      "outputs": [
        {
          "output_type": "execute_result",
          "data": {
            "text/plain": [
              "0.4940898345153664"
            ]
          },
          "metadata": {},
          "execution_count": 39
        }
      ]
    },
    {
      "cell_type": "code",
      "source": [
        "from sklearn.model_selection import GridSearchCV"
      ],
      "metadata": {
        "id": "g1JmTmElpfLy"
      },
      "execution_count": null,
      "outputs": []
    },
    {
      "cell_type": "code",
      "source": [
        "params = {'n_neighbors': [1,2,3,4,5,6,7,8,9,10]}"
      ],
      "metadata": {
        "id": "jY66FGKspiBi"
      },
      "execution_count": null,
      "outputs": []
    },
    {
      "cell_type": "code",
      "source": [
        "grid_search_cv = GridSearchCV(KNeighborsClassifier(),params)"
      ],
      "metadata": {
        "id": "F_EXmYsZplVS"
      },
      "execution_count": null,
      "outputs": []
    },
    {
      "cell_type": "code",
      "source": [
        "grid_search_cv.fit(X_train.values, y_train.values)"
      ],
      "metadata": {
        "colab": {
          "base_uri": "https://localhost:8080/"
        },
        "id": "zcE1yy9jpnES",
        "outputId": "44ba47ec-8c00-45b1-b6e8-77d201b06a4f"
      },
      "execution_count": null,
      "outputs": [
        {
          "output_type": "execute_result",
          "data": {
            "text/plain": [
              "GridSearchCV(estimator=KNeighborsClassifier(),\n",
              "             param_grid={'n_neighbors': [1, 2, 3, 4, 5, 6, 7, 8, 9, 10]})"
            ]
          },
          "metadata": {},
          "execution_count": 43
        }
      ]
    },
    {
      "cell_type": "code",
      "source": [
        "grid_search_cv.best_params_"
      ],
      "metadata": {
        "colab": {
          "base_uri": "https://localhost:8080/"
        },
        "id": "RE-bVSSopofq",
        "outputId": "f90306b2-e249-4c96-cdd2-824f4505900d"
      },
      "execution_count": null,
      "outputs": [
        {
          "output_type": "execute_result",
          "data": {
            "text/plain": [
              "{'n_neighbors': 4}"
            ]
          },
          "metadata": {},
          "execution_count": 50
        }
      ]
    },
    {
      "cell_type": "code",
      "source": [
        "clf_knn_4 = KNeighborsClassifier(n_neighbors=4)\n",
        "clf_knn_4.fit(X_train_s,y_train)\n",
        "accuracy_score(y_test, clf_knn_4.predict(X_test_s))"
      ],
      "metadata": {
        "colab": {
          "base_uri": "https://localhost:8080/"
        },
        "id": "4TUGnESfqgh6",
        "outputId": "48ee2457-8aa9-4885-8b97-203173674bdb"
      },
      "execution_count": null,
      "outputs": [
        {
          "output_type": "execute_result",
          "data": {
            "text/plain": [
              "0.5271867612293144"
            ]
          },
          "metadata": {},
          "execution_count": 51
        }
      ]
    },
    {
      "cell_type": "code",
      "source": [],
      "metadata": {
        "id": "pQeJFMUUqkwj"
      },
      "execution_count": null,
      "outputs": []
    }
  ]
}