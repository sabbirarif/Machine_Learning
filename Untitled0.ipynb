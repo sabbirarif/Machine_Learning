{
  "nbformat": 4,
  "nbformat_minor": 0,
  "metadata": {
    "colab": {
      "provenance": [],
      "authorship_tag": "ABX9TyNbCWEsO1ZB8PgNRusm5bXz",
      "include_colab_link": true
    },
    "kernelspec": {
      "name": "python3",
      "display_name": "Python 3"
    },
    "language_info": {
      "name": "python"
    }
  },
  "cells": [
    {
      "cell_type": "markdown",
      "metadata": {
        "id": "view-in-github",
        "colab_type": "text"
      },
      "source": [
        "<a href=\"https://colab.research.google.com/github/sabbirarif/Machine_Learning/blob/main/Untitled0.ipynb\" target=\"_parent\"><img src=\"https://colab.research.google.com/assets/colab-badge.svg\" alt=\"Open In Colab\"/></a>"
      ]
    },
    {
      "cell_type": "code",
      "execution_count": null,
      "metadata": {
        "colab": {
          "base_uri": "https://localhost:8080/",
          "height": 53
        },
        "id": "uPHS1PL-BBuX",
        "outputId": "ae2c9549-72b3-4e36-97fe-dda55d72456e"
      },
      "outputs": [
        {
          "name": "stdout",
          "output_type": "stream",
          "text": [
            "what's your name Sabbir\n"
          ]
        },
        {
          "output_type": "execute_result",
          "data": {
            "text/plain": [
              "'Sabbir'"
            ],
            "application/vnd.google.colaboratory.intrinsic+json": {
              "type": "string"
            }
          },
          "metadata": {},
          "execution_count": 1
        }
      ],
      "source": [
        " input(\"what's your name \")"
      ]
    },
    {
      "cell_type": "code",
      "source": [
        "my_age=  12\n",
        "my_age +=4\n",
        "print(my_age)"
      ],
      "metadata": {
        "colab": {
          "base_uri": "https://localhost:8080/"
        },
        "id": "2GG0jwpQBJWe",
        "outputId": "b8f0f007-d833-4578-b24c-405a7fa21a61"
      },
      "execution_count": null,
      "outputs": [
        {
          "output_type": "stream",
          "name": "stdout",
          "text": [
            "16\n"
          ]
        }
      ]
    },
    {
      "cell_type": "code",
      "source": [
        "print(f\"After 4 years I will be {my_age} years old!\")"
      ],
      "metadata": {
        "colab": {
          "base_uri": "https://localhost:8080/"
        },
        "id": "ZNlb6fCZBkZm",
        "outputId": "faa02577-63af-45de-ecd1-e3aab5cf4d6e"
      },
      "execution_count": null,
      "outputs": [
        {
          "output_type": "stream",
          "name": "stdout",
          "text": [
            "After 4 years I will be 16 years old!\n"
          ]
        }
      ]
    },
    {
      "cell_type": "code",
      "source": [
        "f_my_age= float(my_age)\n",
        "print(f\"In foating digit my age will be {f_my_age} \")"
      ],
      "metadata": {
        "colab": {
          "base_uri": "https://localhost:8080/"
        },
        "id": "1wF5O6mrCUsk",
        "outputId": "6ae48541-260e-4550-cc61-7f8a1c9c7914"
      },
      "execution_count": null,
      "outputs": [
        {
          "output_type": "stream",
          "name": "stdout",
          "text": [
            "In foating digit my age will be 16.0 \n"
          ]
        }
      ]
    },
    {
      "cell_type": "code",
      "source": [
        "type(f_my_age)"
      ],
      "metadata": {
        "colab": {
          "base_uri": "https://localhost:8080/"
        },
        "id": "BvKqkN85C9rM",
        "outputId": "968201c0-b2f9-402e-a2ef-ed7dc801e10e"
      },
      "execution_count": null,
      "outputs": [
        {
          "output_type": "execute_result",
          "data": {
            "text/plain": [
              "float"
            ]
          },
          "metadata": {},
          "execution_count": 5
        }
      ]
    },
    {
      "cell_type": "code",
      "source": [
        "speech = \"I said to Sakib: \\\"Let's Play Ludo Today\\\"\"\n",
        "print(speech)"
      ],
      "metadata": {
        "id": "OFtAGbTdDVes",
        "colab": {
          "base_uri": "https://localhost:8080/"
        },
        "outputId": "a5766369-4659-4f10-895a-1fecc8458bf0"
      },
      "execution_count": null,
      "outputs": [
        {
          "output_type": "stream",
          "name": "stdout",
          "text": [
            "I said to Sakib: \"Let's Play Ludo Today\"\n"
          ]
        }
      ]
    },
    {
      "cell_type": "code",
      "source": [
        "my_age*=2\n",
        "print(f\"In 2032, I will be {my_age} years old\")"
      ],
      "metadata": {
        "colab": {
          "base_uri": "https://localhost:8080/"
        },
        "id": "tDzYnO-CB2B1",
        "outputId": "f020fa70-0ec7-4ad9-c1a4-95c0e80a77d1"
      },
      "execution_count": null,
      "outputs": [
        {
          "output_type": "stream",
          "name": "stdout",
          "text": [
            "In 2032, I will be 32 years old\n"
          ]
        }
      ]
    },
    {
      "cell_type": "code",
      "source": [
        "my_age-=6\n",
        "print(f\"In 2026, I will be {my_age} years old\")"
      ],
      "metadata": {
        "colab": {
          "base_uri": "https://localhost:8080/"
        },
        "id": "NF2V0vX0DGMW",
        "outputId": "b53a41da-a8e2-450e-8cf5-11abed437fe9"
      },
      "execution_count": null,
      "outputs": [
        {
          "output_type": "stream",
          "name": "stdout",
          "text": [
            "In 2026, I will be 26 years old\n"
          ]
        }
      ]
    },
    {
      "cell_type": "code",
      "source": [
        "print(\"Hello \"+ input(\"what is your name?\")+ \"!\")"
      ],
      "metadata": {
        "colab": {
          "base_uri": "https://localhost:8080/"
        },
        "id": "UZEmsLHTDfIt",
        "outputId": "bd92bb1b-18ff-401a-9a87-e720cad75cf4"
      },
      "execution_count": null,
      "outputs": [
        {
          "output_type": "stream",
          "name": "stdout",
          "text": [
            "what is your name?Sabbir\n",
            "Hello Sabbir!\n"
          ]
        }
      ]
    },
    {
      "cell_type": "code",
      "source": [
        "len(speech)"
      ],
      "metadata": {
        "colab": {
          "base_uri": "https://localhost:8080/"
        },
        "id": "lRDHNze8FODe",
        "outputId": "37ef98ec-d977-4978-86a2-d847236da963"
      },
      "execution_count": null,
      "outputs": [
        {
          "output_type": "execute_result",
          "data": {
            "text/plain": [
              "40"
            ]
          },
          "metadata": {},
          "execution_count": 16
        }
      ]
    },
    {
      "cell_type": "code",
      "source": [
        "#Project-1: BAND name Generator!\n",
        "print(\"Welcome to a band name GENERATOR: \")\n",
        "name= input(\"Enter your pet's name: \\n\")\n",
        "city = input(\"Enter your City name: \\n\")\n",
        "print(f\"Your band name Could be: \"+  name+\" \" + city)"
      ],
      "metadata": {
        "colab": {
          "base_uri": "https://localhost:8080/"
        },
        "id": "rYueKhgEIYS_",
        "outputId": "1bfd406e-68f6-4421-9592-c02efb6c1b8b"
      },
      "execution_count": null,
      "outputs": [
        {
          "output_type": "stream",
          "name": "stdout",
          "text": [
            "Welcome to a band name GENERATOR: \n",
            "Enter your pet's name: \n",
            "Lunatic\n",
            "Enter your City name: \n",
            "DHAKA\n",
            "Your band name Could be: Lunatic DHAKA\n"
          ]
        }
      ]
    },
    {
      "cell_type": "code",
      "source": [
        "#subscripting\n",
        "print(\"Sabbir\"[4])\n",
        "print(\"Sabbir\"[-2])"
      ],
      "metadata": {
        "id": "ZqOoZhFAKHa2",
        "colab": {
          "base_uri": "https://localhost:8080/"
        },
        "outputId": "7b63a78c-d45c-4c48-d38b-fe987be1097a"
      },
      "execution_count": null,
      "outputs": [
        {
          "output_type": "stream",
          "name": "stdout",
          "text": [
            "i\n",
            "i\n"
          ]
        }
      ]
    },
    {
      "cell_type": "code",
      "source": [
        "print(\"123\"+\"456\")\n",
        "print(123+456)"
      ],
      "metadata": {
        "colab": {
          "base_uri": "https://localhost:8080/"
        },
        "id": "nxeTyiZdcxSY",
        "outputId": "cd122587-929c-41e5-d1c6-9846524609fb"
      },
      "execution_count": null,
      "outputs": [
        {
          "output_type": "stream",
          "name": "stdout",
          "text": [
            "123456\n",
            "579\n"
          ]
        }
      ]
    },
    {
      "cell_type": "code",
      "source": [
        "print(True)\n",
        "print(False)"
      ],
      "metadata": {
        "colab": {
          "base_uri": "https://localhost:8080/"
        },
        "id": "SJM6SzGDeBkn",
        "outputId": "0b724869-82c6-4bde-ec0c-904bb91f9fac"
      },
      "execution_count": null,
      "outputs": [
        {
          "output_type": "stream",
          "name": "stdout",
          "text": [
            "True\n",
            "False\n"
          ]
        }
      ]
    },
    {
      "cell_type": "code",
      "source": [
        "len(\"123456\")\n"
      ],
      "metadata": {
        "colab": {
          "base_uri": "https://localhost:8080/"
        },
        "id": "Y8vLbeSOelN_",
        "outputId": "92a38e86-2de2-49de-d3de-19f6c7aae639"
      },
      "execution_count": null,
      "outputs": [
        {
          "output_type": "execute_result",
          "data": {
            "text/plain": [
              "6"
            ]
          },
          "metadata": {},
          "execution_count": 13
        }
      ]
    },
    {
      "cell_type": "code",
      "source": [
        "print(type(\"123456\"))\n",
        "print(type(123456))\n",
        "print(type(3.14159))\n",
        "print(type(False))"
      ],
      "metadata": {
        "colab": {
          "base_uri": "https://localhost:8080/"
        },
        "id": "GaWEP4CQgIjY",
        "outputId": "f5c2499f-b39c-4c48-b836-b242ae7c38c4"
      },
      "execution_count": null,
      "outputs": [
        {
          "output_type": "stream",
          "name": "stdout",
          "text": [
            "<class 'str'>\n",
            "<class 'int'>\n",
            "<class 'float'>\n",
            "<class 'bool'>\n"
          ]
        }
      ]
    },
    {
      "cell_type": "code",
      "source": [
        "#Type Conversion or Type Casting\n",
        "print(int(\"123\")+int(\"456\"))"
      ],
      "metadata": {
        "colab": {
          "base_uri": "https://localhost:8080/"
        },
        "id": "RVVViP6Gglb_",
        "outputId": "3925342d-4ada-43c4-f787-4a3ad5e939a7"
      },
      "execution_count": null,
      "outputs": [
        {
          "output_type": "stream",
          "name": "stdout",
          "text": [
            "579\n"
          ]
        }
      ]
    },
    {
      "cell_type": "code",
      "source": [
        "print(\"Number of Letters in your name:\" + str(len(input(\"Enter Your Name: \"))))"
      ],
      "metadata": {
        "colab": {
          "base_uri": "https://localhost:8080/"
        },
        "id": "VVER_9yyh1VA",
        "outputId": "5eeac5d1-dc20-4bd0-c721-c6ac0918895d"
      },
      "execution_count": null,
      "outputs": [
        {
          "output_type": "stream",
          "name": "stdout",
          "text": [
            "Enter Your Name: Sabbir\n",
            "Number of Letters in your name:6\n"
          ]
        }
      ]
    },
    {
      "cell_type": "code",
      "source": [
        "def my_function():\n",
        "  print(\"Hello\")\n",
        "  name= input(\"Your name:\")\n",
        "  print(name)"
      ],
      "metadata": {
        "id": "JzyR1hyojKoX"
      },
      "execution_count": null,
      "outputs": []
    },
    {
      "cell_type": "code",
      "source": [
        "my_function()"
      ],
      "metadata": {
        "colab": {
          "base_uri": "https://localhost:8080/"
        },
        "id": "f8F5RLuw1L0x",
        "outputId": "c8c11a66-f8a9-4e1b-db7d-00db352867a2"
      },
      "execution_count": null,
      "outputs": [
        {
          "output_type": "stream",
          "name": "stdout",
          "text": [
            "Hello\n",
            "Your name:sabbir\n",
            "sabbir\n"
          ]
        }
      ]
    },
    {
      "cell_type": "code",
      "source": [
        "def add(n1, n2):\n",
        "  print(n1+n2)"
      ],
      "metadata": {
        "id": "mAp8r-lW2Kuo"
      },
      "execution_count": null,
      "outputs": []
    },
    {
      "cell_type": "code",
      "source": [
        "add(2,3)"
      ],
      "metadata": {
        "colab": {
          "base_uri": "https://localhost:8080/"
        },
        "id": "uPIfcU7V3MHB",
        "outputId": "bb813c2b-242f-491d-c0ea-1738fa63872b"
      },
      "execution_count": null,
      "outputs": [
        {
          "output_type": "stream",
          "name": "stdout",
          "text": [
            "5\n"
          ]
        }
      ]
    },
    {
      "cell_type": "code",
      "source": [
        "def addd(a1,a2):\n",
        "  return a1+a2\n",
        "\n",
        "\n",
        "result= addd(3,5)\n",
        "print(result)\n"
      ],
      "metadata": {
        "id": "w061VVg83OcA",
        "colab": {
          "base_uri": "https://localhost:8080/"
        },
        "outputId": "355084f9-7f8c-481c-bb5f-57b4f3ef433e"
      },
      "execution_count": 10,
      "outputs": [
        {
          "output_type": "stream",
          "name": "stdout",
          "text": [
            "8\n"
          ]
        }
      ]
    },
    {
      "cell_type": "code",
      "source": [
        "bmi= 64/ 1.6764**2\n",
        "print(bmi)\n",
        "print(int(bmi))\n",
        "print(round(bmi))\n",
        "print(round(bmi,2))"
      ],
      "metadata": {
        "id": "tmJA7a9h4IF5",
        "colab": {
          "base_uri": "https://localhost:8080/"
        },
        "outputId": "71e2d499-51cc-4f1a-fde4-6a5e5551e073"
      },
      "execution_count": 5,
      "outputs": [
        {
          "output_type": "stream",
          "name": "stdout",
          "text": [
            "22.77323195601396\n",
            "22\n",
            "23\n",
            "22.77\n"
          ]
        }
      ]
    },
    {
      "cell_type": "code",
      "source": [
        "score= 2\n",
        "# User Scores a point\n",
        "score += 1\n",
        "print(score)\n",
        "print(\"Your Score is :\" + str(score))\n",
        "print(f\"Your Score is :{score}\")"
      ],
      "metadata": {
        "id": "VPToep8pJxEW",
        "colab": {
          "base_uri": "https://localhost:8080/"
        },
        "outputId": "705e3c44-e3d2-47fa-c86c-f5e1a20ad33f"
      },
      "execution_count": null,
      "outputs": [
        {
          "output_type": "stream",
          "name": "stdout",
          "text": [
            "3\n",
            "Your Score is :3\n",
            "Your Score is :3\n"
          ]
        }
      ]
    },
    {
      "cell_type": "code",
      "source": [
        "#Project-2 Tip Calculator\n",
        "print(\"Welcome to the Tip Calculator!\")\n",
        "bill=float(input(\"What is the Total bill?\"))\n",
        "type(bill)\n",
        "tip= float(input(\"what percentage of tip would you like to give? 10 12 15\"))\n",
        "people= int(input(\"How many people would you like to split the bill?\"))\n",
        "bill_with_tip= bill+tip/100*bill\n",
        "print(f\"Total bill with tip is :{round(bill_with_tip,2)}$\")\n",
        "bill_per_person= bill_with_tip/people\n",
        "print(f\"Per person have to pay: {round(bill_per_person,2)}$\")"
      ],
      "metadata": {
        "colab": {
          "base_uri": "https://localhost:8080/"
        },
        "id": "hQj1AQJ_Lc9t",
        "outputId": "524607cd-c931-414c-d690-e0e64e529e74"
      },
      "execution_count": null,
      "outputs": [
        {
          "output_type": "stream",
          "name": "stdout",
          "text": [
            "Welcome to the Tip Calculator!\n",
            "What is the Total bill?153.45\n",
            "what percentage of tip would you like to give? 10 12 1515\n",
            "How many people would you like to split the bill?5\n",
            "Total bill with tip is :176.47$\n",
            "Per person have to pay: 35.29$\n"
          ]
        }
      ]
    },
    {
      "cell_type": "code",
      "source": [
        "n=26\n",
        "def my_function2():\n",
        "  n=3\n",
        "  print(n)\n",
        "\n",
        "print(n)\n",
        "my_function2()"
      ],
      "metadata": {
        "id": "1airbtJGT6L3",
        "colab": {
          "base_uri": "https://localhost:8080/"
        },
        "outputId": "aeb14cfb-cda1-4a43-88c3-d68908f4b5ff"
      },
      "execution_count": 11,
      "outputs": [
        {
          "output_type": "stream",
          "name": "stdout",
          "text": [
            "26\n",
            "3\n"
          ]
        }
      ]
    },
    {
      "cell_type": "code",
      "source": [
        "def divide(n1,n2):\n",
        "  result=n1/n2\n",
        "  print(result)\n",
        "\n",
        "divide(26,2)\n",
        "divide(n2=2, n1=26)"
      ],
      "metadata": {
        "colab": {
          "base_uri": "https://localhost:8080/"
        },
        "id": "PU3VagGMHsOy",
        "outputId": "8534f468-a799-449b-acf0-7d3188d9c044"
      },
      "execution_count": 15,
      "outputs": [
        {
          "output_type": "stream",
          "name": "stdout",
          "text": [
            "13.0\n",
            "13.0\n"
          ]
        }
      ]
    },
    {
      "cell_type": "code",
      "source": [],
      "metadata": {
        "id": "JkqZtsyTILPb"
      },
      "execution_count": null,
      "outputs": []
    }
  ]
}