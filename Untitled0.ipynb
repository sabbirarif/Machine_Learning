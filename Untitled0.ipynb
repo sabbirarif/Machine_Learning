{
  "nbformat": 4,
  "nbformat_minor": 0,
  "metadata": {
    "colab": {
      "provenance": [],
      "authorship_tag": "ABX9TyM9Pz3lfcf/wZOP0jKD7pFO",
      "include_colab_link": true
    },
    "kernelspec": {
      "name": "python3",
      "display_name": "Python 3"
    },
    "language_info": {
      "name": "python"
    }
  },
  "cells": [
    {
      "cell_type": "markdown",
      "metadata": {
        "id": "view-in-github",
        "colab_type": "text"
      },
      "source": [
        "<a href=\"https://colab.research.google.com/github/sabbirarif/Machine_Learning/blob/main/Untitled0.ipynb\" target=\"_parent\"><img src=\"https://colab.research.google.com/assets/colab-badge.svg\" alt=\"Open In Colab\"/></a>"
      ]
    },
    {
      "cell_type": "code",
      "execution_count": null,
      "metadata": {
        "colab": {
          "base_uri": "https://localhost:8080/",
          "height": 53
        },
        "id": "uPHS1PL-BBuX",
        "outputId": "ae2c9549-72b3-4e36-97fe-dda55d72456e"
      },
      "outputs": [
        {
          "name": "stdout",
          "output_type": "stream",
          "text": [
            "what's your name Sabbir\n"
          ]
        },
        {
          "output_type": "execute_result",
          "data": {
            "text/plain": [
              "'Sabbir'"
            ],
            "application/vnd.google.colaboratory.intrinsic+json": {
              "type": "string"
            }
          },
          "metadata": {},
          "execution_count": 1
        }
      ],
      "source": [
        " input(\"what's your name \")"
      ]
    },
    {
      "cell_type": "code",
      "source": [
        "my_age=  12\n",
        "my_age +=4\n",
        "print(my_age)"
      ],
      "metadata": {
        "colab": {
          "base_uri": "https://localhost:8080/"
        },
        "id": "2GG0jwpQBJWe",
        "outputId": "b8f0f007-d833-4578-b24c-405a7fa21a61"
      },
      "execution_count": null,
      "outputs": [
        {
          "output_type": "stream",
          "name": "stdout",
          "text": [
            "16\n"
          ]
        }
      ]
    },
    {
      "cell_type": "code",
      "source": [
        "print(f\"After 4 years I will be {my_age} years old!\")"
      ],
      "metadata": {
        "colab": {
          "base_uri": "https://localhost:8080/"
        },
        "id": "ZNlb6fCZBkZm",
        "outputId": "faa02577-63af-45de-ecd1-e3aab5cf4d6e"
      },
      "execution_count": null,
      "outputs": [
        {
          "output_type": "stream",
          "name": "stdout",
          "text": [
            "After 4 years I will be 16 years old!\n"
          ]
        }
      ]
    },
    {
      "cell_type": "code",
      "source": [
        "f_my_age= float(my_age)\n",
        "print(f\"In foating digit my age will be {f_my_age} \")"
      ],
      "metadata": {
        "colab": {
          "base_uri": "https://localhost:8080/"
        },
        "id": "1wF5O6mrCUsk",
        "outputId": "6ae48541-260e-4550-cc61-7f8a1c9c7914"
      },
      "execution_count": null,
      "outputs": [
        {
          "output_type": "stream",
          "name": "stdout",
          "text": [
            "In foating digit my age will be 16.0 \n"
          ]
        }
      ]
    },
    {
      "cell_type": "code",
      "source": [
        "type(f_my_age)"
      ],
      "metadata": {
        "colab": {
          "base_uri": "https://localhost:8080/"
        },
        "id": "BvKqkN85C9rM",
        "outputId": "968201c0-b2f9-402e-a2ef-ed7dc801e10e"
      },
      "execution_count": null,
      "outputs": [
        {
          "output_type": "execute_result",
          "data": {
            "text/plain": [
              "float"
            ]
          },
          "metadata": {},
          "execution_count": 5
        }
      ]
    },
    {
      "cell_type": "code",
      "source": [
        "speech = \"I said to Sakib: \\\"Let's Play Ludo Today\\\"\"\n",
        "print(speech)"
      ],
      "metadata": {
        "id": "OFtAGbTdDVes",
        "colab": {
          "base_uri": "https://localhost:8080/"
        },
        "outputId": "a5766369-4659-4f10-895a-1fecc8458bf0"
      },
      "execution_count": null,
      "outputs": [
        {
          "output_type": "stream",
          "name": "stdout",
          "text": [
            "I said to Sakib: \"Let's Play Ludo Today\"\n"
          ]
        }
      ]
    },
    {
      "cell_type": "code",
      "source": [
        "my_age*=2\n",
        "print(f\"In 2032, I will be {my_age} years old\")"
      ],
      "metadata": {
        "colab": {
          "base_uri": "https://localhost:8080/"
        },
        "id": "tDzYnO-CB2B1",
        "outputId": "f020fa70-0ec7-4ad9-c1a4-95c0e80a77d1"
      },
      "execution_count": null,
      "outputs": [
        {
          "output_type": "stream",
          "name": "stdout",
          "text": [
            "In 2032, I will be 32 years old\n"
          ]
        }
      ]
    },
    {
      "cell_type": "code",
      "source": [
        "my_age-=6\n",
        "print(f\"In 2026, I will be {my_age} years old\")"
      ],
      "metadata": {
        "colab": {
          "base_uri": "https://localhost:8080/"
        },
        "id": "NF2V0vX0DGMW",
        "outputId": "b53a41da-a8e2-450e-8cf5-11abed437fe9"
      },
      "execution_count": null,
      "outputs": [
        {
          "output_type": "stream",
          "name": "stdout",
          "text": [
            "In 2026, I will be 26 years old\n"
          ]
        }
      ]
    },
    {
      "cell_type": "code",
      "source": [
        "print(\"Hello \"+ input(\"what is your name?\")+ \"!\")"
      ],
      "metadata": {
        "colab": {
          "base_uri": "https://localhost:8080/"
        },
        "id": "UZEmsLHTDfIt",
        "outputId": "bd92bb1b-18ff-401a-9a87-e720cad75cf4"
      },
      "execution_count": null,
      "outputs": [
        {
          "output_type": "stream",
          "name": "stdout",
          "text": [
            "what is your name?Sabbir\n",
            "Hello Sabbir!\n"
          ]
        }
      ]
    },
    {
      "cell_type": "code",
      "source": [
        "len(speech)"
      ],
      "metadata": {
        "colab": {
          "base_uri": "https://localhost:8080/"
        },
        "id": "lRDHNze8FODe",
        "outputId": "37ef98ec-d977-4978-86a2-d847236da963"
      },
      "execution_count": null,
      "outputs": [
        {
          "output_type": "execute_result",
          "data": {
            "text/plain": [
              "40"
            ]
          },
          "metadata": {},
          "execution_count": 16
        }
      ]
    },
    {
      "cell_type": "code",
      "source": [
        "#Project-1: BAND name Generator!\n",
        "print(\"Welcome to a band name GENERATOR: \")\n",
        "name= input(\"Enter your pet's name: \\n\")\n",
        "city = input(\"Enter your City name: \\n\")\n",
        "print(f\"Your band name Could be: \"+  name+\" \" + city)"
      ],
      "metadata": {
        "colab": {
          "base_uri": "https://localhost:8080/"
        },
        "id": "rYueKhgEIYS_",
        "outputId": "1bfd406e-68f6-4421-9592-c02efb6c1b8b"
      },
      "execution_count": null,
      "outputs": [
        {
          "output_type": "stream",
          "name": "stdout",
          "text": [
            "Welcome to a band name GENERATOR: \n",
            "Enter your pet's name: \n",
            "Lunatic\n",
            "Enter your City name: \n",
            "DHAKA\n",
            "Your band name Could be: Lunatic DHAKA\n"
          ]
        }
      ]
    },
    {
      "cell_type": "code",
      "source": [
        "#subscripting\n",
        "print(\"Sabbir\"[4])\n",
        "print(\"Sabbir\"[-2])"
      ],
      "metadata": {
        "id": "ZqOoZhFAKHa2",
        "colab": {
          "base_uri": "https://localhost:8080/"
        },
        "outputId": "7b63a78c-d45c-4c48-d38b-fe987be1097a"
      },
      "execution_count": null,
      "outputs": [
        {
          "output_type": "stream",
          "name": "stdout",
          "text": [
            "i\n",
            "i\n"
          ]
        }
      ]
    },
    {
      "cell_type": "code",
      "source": [
        "print(\"123\"+\"456\")\n",
        "print(123+456)"
      ],
      "metadata": {
        "colab": {
          "base_uri": "https://localhost:8080/"
        },
        "id": "nxeTyiZdcxSY",
        "outputId": "cd122587-929c-41e5-d1c6-9846524609fb"
      },
      "execution_count": null,
      "outputs": [
        {
          "output_type": "stream",
          "name": "stdout",
          "text": [
            "123456\n",
            "579\n"
          ]
        }
      ]
    },
    {
      "cell_type": "code",
      "source": [
        "print(True)\n",
        "print(False)"
      ],
      "metadata": {
        "colab": {
          "base_uri": "https://localhost:8080/"
        },
        "id": "SJM6SzGDeBkn",
        "outputId": "0b724869-82c6-4bde-ec0c-904bb91f9fac"
      },
      "execution_count": null,
      "outputs": [
        {
          "output_type": "stream",
          "name": "stdout",
          "text": [
            "True\n",
            "False\n"
          ]
        }
      ]
    },
    {
      "cell_type": "code",
      "source": [
        "len(\"123456\")\n"
      ],
      "metadata": {
        "colab": {
          "base_uri": "https://localhost:8080/"
        },
        "id": "Y8vLbeSOelN_",
        "outputId": "92a38e86-2de2-49de-d3de-19f6c7aae639"
      },
      "execution_count": null,
      "outputs": [
        {
          "output_type": "execute_result",
          "data": {
            "text/plain": [
              "6"
            ]
          },
          "metadata": {},
          "execution_count": 13
        }
      ]
    },
    {
      "cell_type": "code",
      "source": [
        "print(type(\"123456\"))\n",
        "print(type(123456))\n",
        "print(type(3.14159))\n",
        "print(type(False))"
      ],
      "metadata": {
        "colab": {
          "base_uri": "https://localhost:8080/"
        },
        "id": "GaWEP4CQgIjY",
        "outputId": "f5c2499f-b39c-4c48-b836-b242ae7c38c4"
      },
      "execution_count": null,
      "outputs": [
        {
          "output_type": "stream",
          "name": "stdout",
          "text": [
            "<class 'str'>\n",
            "<class 'int'>\n",
            "<class 'float'>\n",
            "<class 'bool'>\n"
          ]
        }
      ]
    },
    {
      "cell_type": "code",
      "source": [
        "#Type Conversion or Type Casting\n",
        "print(int(\"123\")+int(\"456\"))"
      ],
      "metadata": {
        "colab": {
          "base_uri": "https://localhost:8080/"
        },
        "id": "RVVViP6Gglb_",
        "outputId": "3925342d-4ada-43c4-f787-4a3ad5e939a7"
      },
      "execution_count": null,
      "outputs": [
        {
          "output_type": "stream",
          "name": "stdout",
          "text": [
            "579\n"
          ]
        }
      ]
    },
    {
      "cell_type": "code",
      "source": [
        "print(\"Number of Letters in your name:\" + str(len(input(\"Enter Your Name: \"))))"
      ],
      "metadata": {
        "colab": {
          "base_uri": "https://localhost:8080/"
        },
        "id": "VVER_9yyh1VA",
        "outputId": "5eeac5d1-dc20-4bd0-c721-c6ac0918895d"
      },
      "execution_count": null,
      "outputs": [
        {
          "output_type": "stream",
          "name": "stdout",
          "text": [
            "Enter Your Name: Sabbir\n",
            "Number of Letters in your name:6\n"
          ]
        }
      ]
    },
    {
      "cell_type": "code",
      "source": [
        "def my_function():\n",
        "  print(\"Hello\")\n",
        "  name= input(\"Your name:\")\n",
        "  print(name)"
      ],
      "metadata": {
        "id": "JzyR1hyojKoX"
      },
      "execution_count": null,
      "outputs": []
    },
    {
      "cell_type": "code",
      "source": [
        "my_function()"
      ],
      "metadata": {
        "colab": {
          "base_uri": "https://localhost:8080/"
        },
        "id": "f8F5RLuw1L0x",
        "outputId": "c8c11a66-f8a9-4e1b-db7d-00db352867a2"
      },
      "execution_count": null,
      "outputs": [
        {
          "output_type": "stream",
          "name": "stdout",
          "text": [
            "Hello\n",
            "Your name:sabbir\n",
            "sabbir\n"
          ]
        }
      ]
    },
    {
      "cell_type": "code",
      "source": [
        "def add(n1, n2):\n",
        "  print(n1+n2)"
      ],
      "metadata": {
        "id": "mAp8r-lW2Kuo"
      },
      "execution_count": null,
      "outputs": []
    },
    {
      "cell_type": "code",
      "source": [
        "add(2,3)"
      ],
      "metadata": {
        "colab": {
          "base_uri": "https://localhost:8080/"
        },
        "id": "uPIfcU7V3MHB",
        "outputId": "bb813c2b-242f-491d-c0ea-1738fa63872b"
      },
      "execution_count": null,
      "outputs": [
        {
          "output_type": "stream",
          "name": "stdout",
          "text": [
            "5\n"
          ]
        }
      ]
    },
    {
      "cell_type": "code",
      "source": [
        "def addd(a1,a2):\n",
        "  return a1+a2\n",
        "\n",
        "\n",
        "result= addd(3,5)\n",
        "print(result)\n"
      ],
      "metadata": {
        "id": "w061VVg83OcA",
        "colab": {
          "base_uri": "https://localhost:8080/"
        },
        "outputId": "355084f9-7f8c-481c-bb5f-57b4f3ef433e"
      },
      "execution_count": null,
      "outputs": [
        {
          "output_type": "stream",
          "name": "stdout",
          "text": [
            "8\n"
          ]
        }
      ]
    },
    {
      "cell_type": "code",
      "source": [
        "bmi= 64/ 1.6764**2\n",
        "print(bmi)\n",
        "print(int(bmi))\n",
        "print(round(bmi))\n",
        "print(round(bmi,2))"
      ],
      "metadata": {
        "id": "tmJA7a9h4IF5",
        "colab": {
          "base_uri": "https://localhost:8080/"
        },
        "outputId": "71e2d499-51cc-4f1a-fde4-6a5e5551e073"
      },
      "execution_count": null,
      "outputs": [
        {
          "output_type": "stream",
          "name": "stdout",
          "text": [
            "22.77323195601396\n",
            "22\n",
            "23\n",
            "22.77\n"
          ]
        }
      ]
    },
    {
      "cell_type": "code",
      "source": [
        "score= 2\n",
        "# User Scores a point\n",
        "score += 1\n",
        "print(score)\n",
        "print(\"Your Score is :\" + str(score))\n",
        "print(f\"Your Score is :{score}\")"
      ],
      "metadata": {
        "id": "VPToep8pJxEW",
        "colab": {
          "base_uri": "https://localhost:8080/"
        },
        "outputId": "705e3c44-e3d2-47fa-c86c-f5e1a20ad33f"
      },
      "execution_count": null,
      "outputs": [
        {
          "output_type": "stream",
          "name": "stdout",
          "text": [
            "3\n",
            "Your Score is :3\n",
            "Your Score is :3\n"
          ]
        }
      ]
    },
    {
      "cell_type": "code",
      "source": [
        "#Project-2 Tip Calculator\n",
        "print(\"Welcome to the Tip Calculator!\")\n",
        "bill=float(input(\"What is the Total bill?\"))\n",
        "type(bill)\n",
        "tip= float(input(\"what percentage of tip would you like to give? 10 12 15\"))\n",
        "people= int(input(\"How many people would you like to split the bill?\"))\n",
        "bill_with_tip= bill+tip/100*bill\n",
        "print(f\"Total bill with tip is :{round(bill_with_tip,2)}$\")\n",
        "bill_per_person= bill_with_tip/people\n",
        "print(f\"Per person have to pay: {round(bill_per_person,2)}$\")"
      ],
      "metadata": {
        "colab": {
          "base_uri": "https://localhost:8080/"
        },
        "id": "hQj1AQJ_Lc9t",
        "outputId": "524607cd-c931-414c-d690-e0e64e529e74"
      },
      "execution_count": null,
      "outputs": [
        {
          "output_type": "stream",
          "name": "stdout",
          "text": [
            "Welcome to the Tip Calculator!\n",
            "What is the Total bill?153.45\n",
            "what percentage of tip would you like to give? 10 12 1515\n",
            "How many people would you like to split the bill?5\n",
            "Total bill with tip is :176.47$\n",
            "Per person have to pay: 35.29$\n"
          ]
        }
      ]
    },
    {
      "cell_type": "code",
      "source": [
        "n=26\n",
        "def my_function2():\n",
        "  n=3\n",
        "  print(n)\n",
        "\n",
        "print(n)\n",
        "my_function2()"
      ],
      "metadata": {
        "id": "1airbtJGT6L3",
        "colab": {
          "base_uri": "https://localhost:8080/"
        },
        "outputId": "aeb14cfb-cda1-4a43-88c3-d68908f4b5ff"
      },
      "execution_count": null,
      "outputs": [
        {
          "output_type": "stream",
          "name": "stdout",
          "text": [
            "26\n",
            "3\n"
          ]
        }
      ]
    },
    {
      "cell_type": "code",
      "source": [
        "def divide(n1,n2):\n",
        "  result=n1/n2\n",
        "  print(result)\n",
        "\n",
        "divide(26,2)\n",
        "divide(n2=2, n1=26)"
      ],
      "metadata": {
        "colab": {
          "base_uri": "https://localhost:8080/"
        },
        "id": "PU3VagGMHsOy",
        "outputId": "8534f468-a799-449b-acf0-7d3188d9c044"
      },
      "execution_count": null,
      "outputs": [
        {
          "output_type": "stream",
          "name": "stdout",
          "text": [
            "13.0\n",
            "13.0\n"
          ]
        }
      ]
    },
    {
      "cell_type": "code",
      "source": [
        "n=1\n",
        "if n>2:\n",
        "  print(\"Larger than 2\")\n",
        "else:\n",
        "  print(\"Smaller than 2\")"
      ],
      "metadata": {
        "colab": {
          "base_uri": "https://localhost:8080/"
        },
        "id": "JkqZtsyTILPb",
        "outputId": "4369c9e1-4385-414f-906d-0b49dc7025c0"
      },
      "execution_count": null,
      "outputs": [
        {
          "output_type": "stream",
          "name": "stdout",
          "text": [
            "Smaller than 2\n"
          ]
        }
      ]
    },
    {
      "cell_type": "code",
      "source": [
        "weather= \"sunny\"\n",
        "if weather==\"rain\":\n",
        "  print(\"bring Umbrella\")\n",
        "elif weather==\"sunny\":\n",
        "  print(\"bring sunglasses\")\n",
        "elif weather==\"snow\":\n",
        "  print(\"bring gloves\")"
      ],
      "metadata": {
        "colab": {
          "base_uri": "https://localhost:8080/"
        },
        "id": "ET_5VFxbLNVj",
        "outputId": "b6c75ee0-5450-474f-c9d3-eb7375d605c8"
      },
      "execution_count": null,
      "outputs": [
        {
          "output_type": "stream",
          "name": "stdout",
          "text": [
            "bring sunglasses\n"
          ]
        }
      ]
    },
    {
      "cell_type": "code",
      "source": [
        "marks= 60\n",
        "if marks>70 and marks<80:\n",
        "  print(\"Your grade is A\")\n",
        "elif marks<33 or marks==33:\n",
        "  print(\"You Failed\")\n",
        "else:\n",
        "  print(\"you need to improve!\")"
      ],
      "metadata": {
        "colab": {
          "base_uri": "https://localhost:8080/"
        },
        "id": "i_CapOB9MRiE",
        "outputId": "041ed71d-d9ec-458b-cde8-041dc649672a"
      },
      "execution_count": null,
      "outputs": [
        {
          "output_type": "stream",
          "name": "stdout",
          "text": [
            "you need to improve!\n"
          ]
        }
      ]
    },
    {
      "cell_type": "markdown",
      "source": [
        "![python1.PNG](data:image/png;base64,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)"
      ],
      "metadata": {
        "id": "goBgG0vGRNVB"
      }
    },
    {
      "cell_type": "code",
      "source": [
        "height= int(input(\"Enter Your Height in cm: \"))\n",
        "if height>=120:\n",
        "  print(\"You can ride the Rollercoaster\")\n",
        "else:\n",
        "  print(\"Sorry! you have to grow taller to enjoy the ride.\")\n"
      ],
      "metadata": {
        "colab": {
          "base_uri": "https://localhost:8080/"
        },
        "id": "RRH9j2nkM-sk",
        "outputId": "b227dd00-4834-4c50-8de7-dd24971104bf"
      },
      "execution_count": null,
      "outputs": [
        {
          "output_type": "stream",
          "name": "stdout",
          "text": [
            "Enter Your Height in cm: 120\n",
            "You can ride the Rollercoaster\n"
          ]
        }
      ]
    },
    {
      "cell_type": "code",
      "source": [
        "#Modulo Operator\n",
        "x= 10%3\n",
        "print(x)"
      ],
      "metadata": {
        "colab": {
          "base_uri": "https://localhost:8080/"
        },
        "id": "XhRGO08VQPRV",
        "outputId": "a73ed1f0-4b83-4ec1-9155-c0c62e676da2"
      },
      "execution_count": null,
      "outputs": [
        {
          "output_type": "stream",
          "name": "stdout",
          "text": [
            "1\n"
          ]
        }
      ]
    },
    {
      "cell_type": "code",
      "source": [
        "user_input=int(input(\"Enter a Number to check even or odd\"))\n",
        "if user_input%2==0:\n",
        "  print(\"The number you have inseted in Even number\")\n",
        "else:\n",
        "  print(\"The number you have inseted in Odd number\")"
      ],
      "metadata": {
        "colab": {
          "base_uri": "https://localhost:8080/"
        },
        "id": "uNtgwUblSLNl",
        "outputId": "b7b61c97-6cf1-478d-99ed-acea3fef2b10"
      },
      "execution_count": null,
      "outputs": [
        {
          "output_type": "stream",
          "name": "stdout",
          "text": [
            "Enter a Number to check even or odd0\n",
            "The number you have inseted in Even number\n"
          ]
        }
      ]
    },
    {
      "cell_type": "markdown",
      "source": [
        "![python2.PNG](data:image/png;base64,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)"
      ],
      "metadata": {
        "id": "-5a9cdfyhVld"
      }
    },
    {
      "cell_type": "code",
      "source": [
        "height= int(input(\"Enter Your Height in cm: \"))\n",
        "if height>=120:\n",
        "  print(\"You can ride the Rollercoaster\")\n",
        "  age= int(input(\"Please enter your Age: \"))\n",
        "  if age<=18:\n",
        "    print(\"please pay $7 for the ticket\")\n",
        "  else:\n",
        "    print(\"please pay $12 for the ticket\")\n",
        "else:\n",
        "  print(\"Sorry! you have to grow taller to enjoy the ride.\")"
      ],
      "metadata": {
        "id": "zjiwVAlzTDF2",
        "colab": {
          "base_uri": "https://localhost:8080/"
        },
        "outputId": "fde4da1a-8fea-48e2-a547-d384a8c6eb4a"
      },
      "execution_count": null,
      "outputs": [
        {
          "output_type": "stream",
          "name": "stdout",
          "text": [
            "Enter Your Height in cm: 130\n",
            "You can ride the Rollercoaster\n",
            "Please enter your Age: 18\n",
            "please pay $7 for the ticket\n"
          ]
        }
      ]
    },
    {
      "cell_type": "markdown",
      "source": [
        "![python3.PNG](data:image/png;base64,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)"
      ],
      "metadata": {
        "id": "0qqFOv7Tjh2x"
      }
    },
    {
      "cell_type": "code",
      "source": [
        "height= int(input(\"Enter Your Height in cm: \"))\n",
        "if height>=120:\n",
        "  print(\"You can ride the Rollercoaster\")\n",
        "  age= int(input(\"Please enter your Age: \"))\n",
        "  if age<12:\n",
        "    print(\"please pay $5 for the ticket\")\n",
        "  elif age>=12 and age<=18: #elif age<=18:\n",
        "    print(\"please pay $7 for the ticket\")\n",
        "  else:\n",
        "    print(\"please pay $12 for the ticket\")\n",
        "else:\n",
        "  print(\"Sorry! you have to grow taller to enjoy the ride.\")"
      ],
      "metadata": {
        "colab": {
          "base_uri": "https://localhost:8080/"
        },
        "id": "DGRnt50dicFL",
        "outputId": "7a67edf5-fa6d-482a-b7df-476ec0e42f7e"
      },
      "execution_count": null,
      "outputs": [
        {
          "output_type": "stream",
          "name": "stdout",
          "text": [
            "Enter Your Height in cm: 119\n",
            "Sorry! you have to grow taller to enjoy the ride.\n"
          ]
        }
      ]
    },
    {
      "cell_type": "code",
      "source": [],
      "metadata": {
        "id": "pHr_VOankKTb"
      },
      "execution_count": null,
      "outputs": []
    }
  ]
}