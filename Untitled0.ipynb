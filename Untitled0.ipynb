{
  "nbformat": 4,
  "nbformat_minor": 0,
  "metadata": {
    "colab": {
      "provenance": [],
      "authorship_tag": "ABX9TyMGfots133xu7EGqX3olMpv",
      "include_colab_link": true
    },
    "kernelspec": {
      "name": "python3",
      "display_name": "Python 3"
    },
    "language_info": {
      "name": "python"
    }
  },
  "cells": [
    {
      "cell_type": "markdown",
      "metadata": {
        "id": "view-in-github",
        "colab_type": "text"
      },
      "source": [
        "<a href=\"https://colab.research.google.com/github/sabbirarif/Machine_Learning/blob/main/Untitled0.ipynb\" target=\"_parent\"><img src=\"https://colab.research.google.com/assets/colab-badge.svg\" alt=\"Open In Colab\"/></a>"
      ]
    },
    {
      "cell_type": "code",
      "execution_count": null,
      "metadata": {
        "colab": {
          "base_uri": "https://localhost:8080/",
          "height": 53
        },
        "id": "uPHS1PL-BBuX",
        "outputId": "ae2c9549-72b3-4e36-97fe-dda55d72456e"
      },
      "outputs": [
        {
          "name": "stdout",
          "output_type": "stream",
          "text": [
            "what's your name Sabbir\n"
          ]
        },
        {
          "output_type": "execute_result",
          "data": {
            "text/plain": [
              "'Sabbir'"
            ],
            "application/vnd.google.colaboratory.intrinsic+json": {
              "type": "string"
            }
          },
          "metadata": {},
          "execution_count": 1
        }
      ],
      "source": [
        " input(\"what's your name \")"
      ]
    },
    {
      "cell_type": "code",
      "source": [
        "my_age=  12\n",
        "my_age +=4\n",
        "print(my_age)"
      ],
      "metadata": {
        "colab": {
          "base_uri": "https://localhost:8080/"
        },
        "id": "2GG0jwpQBJWe",
        "outputId": "b8f0f007-d833-4578-b24c-405a7fa21a61"
      },
      "execution_count": null,
      "outputs": [
        {
          "output_type": "stream",
          "name": "stdout",
          "text": [
            "16\n"
          ]
        }
      ]
    },
    {
      "cell_type": "code",
      "source": [
        "print(f\"After 4 years I will be {my_age} years old!\")"
      ],
      "metadata": {
        "colab": {
          "base_uri": "https://localhost:8080/"
        },
        "id": "ZNlb6fCZBkZm",
        "outputId": "faa02577-63af-45de-ecd1-e3aab5cf4d6e"
      },
      "execution_count": null,
      "outputs": [
        {
          "output_type": "stream",
          "name": "stdout",
          "text": [
            "After 4 years I will be 16 years old!\n"
          ]
        }
      ]
    },
    {
      "cell_type": "code",
      "source": [
        "f_my_age= float(my_age)\n",
        "print(f\"In foating digit my age will be {f_my_age} \")"
      ],
      "metadata": {
        "colab": {
          "base_uri": "https://localhost:8080/"
        },
        "id": "1wF5O6mrCUsk",
        "outputId": "6ae48541-260e-4550-cc61-7f8a1c9c7914"
      },
      "execution_count": null,
      "outputs": [
        {
          "output_type": "stream",
          "name": "stdout",
          "text": [
            "In foating digit my age will be 16.0 \n"
          ]
        }
      ]
    },
    {
      "cell_type": "code",
      "source": [
        "type(f_my_age)"
      ],
      "metadata": {
        "colab": {
          "base_uri": "https://localhost:8080/"
        },
        "id": "BvKqkN85C9rM",
        "outputId": "968201c0-b2f9-402e-a2ef-ed7dc801e10e"
      },
      "execution_count": null,
      "outputs": [
        {
          "output_type": "execute_result",
          "data": {
            "text/plain": [
              "float"
            ]
          },
          "metadata": {},
          "execution_count": 5
        }
      ]
    },
    {
      "cell_type": "code",
      "source": [
        "speech = \"I said to Sakib: \\\"Let's Play Ludo Today\\\"\"\n",
        "print(speech)"
      ],
      "metadata": {
        "id": "OFtAGbTdDVes",
        "colab": {
          "base_uri": "https://localhost:8080/"
        },
        "outputId": "a5766369-4659-4f10-895a-1fecc8458bf0"
      },
      "execution_count": null,
      "outputs": [
        {
          "output_type": "stream",
          "name": "stdout",
          "text": [
            "I said to Sakib: \"Let's Play Ludo Today\"\n"
          ]
        }
      ]
    },
    {
      "cell_type": "code",
      "source": [
        "my_age*=2\n",
        "print(f\"In 2032, I will be {my_age} years old\")"
      ],
      "metadata": {
        "colab": {
          "base_uri": "https://localhost:8080/"
        },
        "id": "tDzYnO-CB2B1",
        "outputId": "f020fa70-0ec7-4ad9-c1a4-95c0e80a77d1"
      },
      "execution_count": null,
      "outputs": [
        {
          "output_type": "stream",
          "name": "stdout",
          "text": [
            "In 2032, I will be 32 years old\n"
          ]
        }
      ]
    },
    {
      "cell_type": "code",
      "source": [
        "my_age-=6\n",
        "print(f\"In 2026, I will be {my_age} years old\")"
      ],
      "metadata": {
        "colab": {
          "base_uri": "https://localhost:8080/"
        },
        "id": "NF2V0vX0DGMW",
        "outputId": "b53a41da-a8e2-450e-8cf5-11abed437fe9"
      },
      "execution_count": null,
      "outputs": [
        {
          "output_type": "stream",
          "name": "stdout",
          "text": [
            "In 2026, I will be 26 years old\n"
          ]
        }
      ]
    },
    {
      "cell_type": "code",
      "source": [
        "print(\"Hello \"+ input(\"what is your name?\")+ \"!\")"
      ],
      "metadata": {
        "colab": {
          "base_uri": "https://localhost:8080/"
        },
        "id": "UZEmsLHTDfIt",
        "outputId": "bd92bb1b-18ff-401a-9a87-e720cad75cf4"
      },
      "execution_count": null,
      "outputs": [
        {
          "output_type": "stream",
          "name": "stdout",
          "text": [
            "what is your name?Sabbir\n",
            "Hello Sabbir!\n"
          ]
        }
      ]
    },
    {
      "cell_type": "code",
      "source": [
        "len(speech)"
      ],
      "metadata": {
        "colab": {
          "base_uri": "https://localhost:8080/"
        },
        "id": "lRDHNze8FODe",
        "outputId": "37ef98ec-d977-4978-86a2-d847236da963"
      },
      "execution_count": null,
      "outputs": [
        {
          "output_type": "execute_result",
          "data": {
            "text/plain": [
              "40"
            ]
          },
          "metadata": {},
          "execution_count": 16
        }
      ]
    },
    {
      "cell_type": "code",
      "source": [
        "#Project-1: BAND name Generator!\n",
        "print(\"Welcome to a band name GENERATOR: \")\n",
        "name= input(\"Enter your pet's name: \\n\")\n",
        "city = input(\"Enter your City name: \\n\")\n",
        "print(f\"Your band name Could be: \"+  name+\" \" + city)"
      ],
      "metadata": {
        "colab": {
          "base_uri": "https://localhost:8080/"
        },
        "id": "rYueKhgEIYS_",
        "outputId": "1bfd406e-68f6-4421-9592-c02efb6c1b8b"
      },
      "execution_count": null,
      "outputs": [
        {
          "output_type": "stream",
          "name": "stdout",
          "text": [
            "Welcome to a band name GENERATOR: \n",
            "Enter your pet's name: \n",
            "Lunatic\n",
            "Enter your City name: \n",
            "DHAKA\n",
            "Your band name Could be: Lunatic DHAKA\n"
          ]
        }
      ]
    },
    {
      "cell_type": "code",
      "source": [
        "#subscripting\n",
        "print(\"Sabbir\"[4])\n",
        "print(\"Sabbir\"[-2])"
      ],
      "metadata": {
        "id": "ZqOoZhFAKHa2",
        "colab": {
          "base_uri": "https://localhost:8080/"
        },
        "outputId": "7b63a78c-d45c-4c48-d38b-fe987be1097a"
      },
      "execution_count": null,
      "outputs": [
        {
          "output_type": "stream",
          "name": "stdout",
          "text": [
            "i\n",
            "i\n"
          ]
        }
      ]
    },
    {
      "cell_type": "code",
      "source": [
        "print(\"123\"+\"456\")\n",
        "print(123+456)"
      ],
      "metadata": {
        "colab": {
          "base_uri": "https://localhost:8080/"
        },
        "id": "nxeTyiZdcxSY",
        "outputId": "cd122587-929c-41e5-d1c6-9846524609fb"
      },
      "execution_count": null,
      "outputs": [
        {
          "output_type": "stream",
          "name": "stdout",
          "text": [
            "123456\n",
            "579\n"
          ]
        }
      ]
    },
    {
      "cell_type": "code",
      "source": [
        "print(True)\n",
        "print(False)"
      ],
      "metadata": {
        "colab": {
          "base_uri": "https://localhost:8080/"
        },
        "id": "SJM6SzGDeBkn",
        "outputId": "0b724869-82c6-4bde-ec0c-904bb91f9fac"
      },
      "execution_count": null,
      "outputs": [
        {
          "output_type": "stream",
          "name": "stdout",
          "text": [
            "True\n",
            "False\n"
          ]
        }
      ]
    },
    {
      "cell_type": "code",
      "source": [
        "len(\"123456\")\n"
      ],
      "metadata": {
        "colab": {
          "base_uri": "https://localhost:8080/"
        },
        "id": "Y8vLbeSOelN_",
        "outputId": "92a38e86-2de2-49de-d3de-19f6c7aae639"
      },
      "execution_count": null,
      "outputs": [
        {
          "output_type": "execute_result",
          "data": {
            "text/plain": [
              "6"
            ]
          },
          "metadata": {},
          "execution_count": 13
        }
      ]
    },
    {
      "cell_type": "code",
      "source": [
        "print(type(\"123456\"))\n",
        "print(type(123456))\n",
        "print(type(3.14159))\n",
        "print(type(False))"
      ],
      "metadata": {
        "colab": {
          "base_uri": "https://localhost:8080/"
        },
        "id": "GaWEP4CQgIjY",
        "outputId": "f5c2499f-b39c-4c48-b836-b242ae7c38c4"
      },
      "execution_count": null,
      "outputs": [
        {
          "output_type": "stream",
          "name": "stdout",
          "text": [
            "<class 'str'>\n",
            "<class 'int'>\n",
            "<class 'float'>\n",
            "<class 'bool'>\n"
          ]
        }
      ]
    },
    {
      "cell_type": "code",
      "source": [
        "#Type Conversion or Type Casting\n",
        "print(int(\"123\")+int(\"456\"))"
      ],
      "metadata": {
        "colab": {
          "base_uri": "https://localhost:8080/"
        },
        "id": "RVVViP6Gglb_",
        "outputId": "3925342d-4ada-43c4-f787-4a3ad5e939a7"
      },
      "execution_count": null,
      "outputs": [
        {
          "output_type": "stream",
          "name": "stdout",
          "text": [
            "579\n"
          ]
        }
      ]
    },
    {
      "cell_type": "code",
      "source": [
        "print(\"Number of Letters in your name:\" + str(len(input(\"Enter Your Name: \"))))"
      ],
      "metadata": {
        "colab": {
          "base_uri": "https://localhost:8080/"
        },
        "id": "VVER_9yyh1VA",
        "outputId": "5eeac5d1-dc20-4bd0-c721-c6ac0918895d"
      },
      "execution_count": null,
      "outputs": [
        {
          "output_type": "stream",
          "name": "stdout",
          "text": [
            "Enter Your Name: Sabbir\n",
            "Number of Letters in your name:6\n"
          ]
        }
      ]
    },
    {
      "cell_type": "code",
      "source": [
        "def my_function():\n",
        "  print(\"Hello\")\n",
        "  name= input(\"Your name:\")\n",
        "  print(name)"
      ],
      "metadata": {
        "id": "JzyR1hyojKoX"
      },
      "execution_count": null,
      "outputs": []
    },
    {
      "cell_type": "code",
      "source": [
        "my_function()"
      ],
      "metadata": {
        "colab": {
          "base_uri": "https://localhost:8080/"
        },
        "id": "f8F5RLuw1L0x",
        "outputId": "c8c11a66-f8a9-4e1b-db7d-00db352867a2"
      },
      "execution_count": null,
      "outputs": [
        {
          "output_type": "stream",
          "name": "stdout",
          "text": [
            "Hello\n",
            "Your name:sabbir\n",
            "sabbir\n"
          ]
        }
      ]
    },
    {
      "cell_type": "code",
      "source": [
        "def add(n1, n2):\n",
        "  print(n1+n2)"
      ],
      "metadata": {
        "id": "mAp8r-lW2Kuo"
      },
      "execution_count": null,
      "outputs": []
    },
    {
      "cell_type": "code",
      "source": [
        "add(2,3)"
      ],
      "metadata": {
        "colab": {
          "base_uri": "https://localhost:8080/"
        },
        "id": "uPIfcU7V3MHB",
        "outputId": "bb813c2b-242f-491d-c0ea-1738fa63872b"
      },
      "execution_count": null,
      "outputs": [
        {
          "output_type": "stream",
          "name": "stdout",
          "text": [
            "5\n"
          ]
        }
      ]
    },
    {
      "cell_type": "code",
      "source": [
        "def addd(a1,a2):\n",
        "  return a1+a2\n",
        "\n",
        "\n",
        "result= addd(3,5)\n",
        "print(result)\n"
      ],
      "metadata": {
        "id": "w061VVg83OcA",
        "colab": {
          "base_uri": "https://localhost:8080/"
        },
        "outputId": "355084f9-7f8c-481c-bb5f-57b4f3ef433e"
      },
      "execution_count": null,
      "outputs": [
        {
          "output_type": "stream",
          "name": "stdout",
          "text": [
            "8\n"
          ]
        }
      ]
    },
    {
      "cell_type": "code",
      "source": [
        "bmi= 64/ 1.6764**2\n",
        "print(bmi)\n",
        "print(int(bmi))\n",
        "print(round(bmi))\n",
        "print(round(bmi,2))"
      ],
      "metadata": {
        "id": "tmJA7a9h4IF5",
        "colab": {
          "base_uri": "https://localhost:8080/"
        },
        "outputId": "71e2d499-51cc-4f1a-fde4-6a5e5551e073"
      },
      "execution_count": null,
      "outputs": [
        {
          "output_type": "stream",
          "name": "stdout",
          "text": [
            "22.77323195601396\n",
            "22\n",
            "23\n",
            "22.77\n"
          ]
        }
      ]
    },
    {
      "cell_type": "code",
      "source": [
        "score= 2\n",
        "# User Scores a point\n",
        "score += 1\n",
        "print(score)\n",
        "print(\"Your Score is :\" + str(score))\n",
        "print(f\"Your Score is :{score}\")"
      ],
      "metadata": {
        "id": "VPToep8pJxEW",
        "colab": {
          "base_uri": "https://localhost:8080/"
        },
        "outputId": "705e3c44-e3d2-47fa-c86c-f5e1a20ad33f"
      },
      "execution_count": null,
      "outputs": [
        {
          "output_type": "stream",
          "name": "stdout",
          "text": [
            "3\n",
            "Your Score is :3\n",
            "Your Score is :3\n"
          ]
        }
      ]
    },
    {
      "cell_type": "code",
      "source": [
        "#Project-2 Tip Calculator\n",
        "print(\"Welcome to the Tip Calculator!\")\n",
        "bill=float(input(\"What is the Total bill?\"))\n",
        "type(bill)\n",
        "tip= float(input(\"what percentage of tip would you like to give? 10 12 15\"))\n",
        "people= int(input(\"How many people would you like to split the bill?\"))\n",
        "bill_with_tip= bill+tip/100*bill\n",
        "print(f\"Total bill with tip is :{round(bill_with_tip,2)}$\")\n",
        "bill_per_person= bill_with_tip/people\n",
        "print(f\"Per person have to pay: {round(bill_per_person,2)}$\")"
      ],
      "metadata": {
        "colab": {
          "base_uri": "https://localhost:8080/"
        },
        "id": "hQj1AQJ_Lc9t",
        "outputId": "524607cd-c931-414c-d690-e0e64e529e74"
      },
      "execution_count": null,
      "outputs": [
        {
          "output_type": "stream",
          "name": "stdout",
          "text": [
            "Welcome to the Tip Calculator!\n",
            "What is the Total bill?153.45\n",
            "what percentage of tip would you like to give? 10 12 1515\n",
            "How many people would you like to split the bill?5\n",
            "Total bill with tip is :176.47$\n",
            "Per person have to pay: 35.29$\n"
          ]
        }
      ]
    },
    {
      "cell_type": "code",
      "source": [
        "n=26\n",
        "def my_function2():\n",
        "  n=3\n",
        "  print(n)\n",
        "\n",
        "print(n)\n",
        "my_function2()"
      ],
      "metadata": {
        "id": "1airbtJGT6L3",
        "colab": {
          "base_uri": "https://localhost:8080/"
        },
        "outputId": "aeb14cfb-cda1-4a43-88c3-d68908f4b5ff"
      },
      "execution_count": null,
      "outputs": [
        {
          "output_type": "stream",
          "name": "stdout",
          "text": [
            "26\n",
            "3\n"
          ]
        }
      ]
    },
    {
      "cell_type": "code",
      "source": [
        "def divide(n1,n2):\n",
        "  result=n1/n2\n",
        "  print(result)\n",
        "\n",
        "divide(26,2)\n",
        "divide(n2=2, n1=26)"
      ],
      "metadata": {
        "colab": {
          "base_uri": "https://localhost:8080/"
        },
        "id": "PU3VagGMHsOy",
        "outputId": "8534f468-a799-449b-acf0-7d3188d9c044"
      },
      "execution_count": null,
      "outputs": [
        {
          "output_type": "stream",
          "name": "stdout",
          "text": [
            "13.0\n",
            "13.0\n"
          ]
        }
      ]
    },
    {
      "cell_type": "code",
      "source": [
        "n=1\n",
        "if n>2:\n",
        "  print(\"Larger than 2\")\n",
        "else:\n",
        "  print(\"Smaller than 2\")"
      ],
      "metadata": {
        "colab": {
          "base_uri": "https://localhost:8080/"
        },
        "id": "JkqZtsyTILPb",
        "outputId": "4369c9e1-4385-414f-906d-0b49dc7025c0"
      },
      "execution_count": null,
      "outputs": [
        {
          "output_type": "stream",
          "name": "stdout",
          "text": [
            "Smaller than 2\n"
          ]
        }
      ]
    },
    {
      "cell_type": "code",
      "source": [
        "weather= \"sunny\"\n",
        "if weather==\"rain\":\n",
        "  print(\"bring Umbrella\")\n",
        "elif weather==\"sunny\":\n",
        "  print(\"bring sunglasses\")\n",
        "elif weather==\"snow\":\n",
        "  print(\"bring gloves\")"
      ],
      "metadata": {
        "colab": {
          "base_uri": "https://localhost:8080/"
        },
        "id": "ET_5VFxbLNVj",
        "outputId": "b6c75ee0-5450-474f-c9d3-eb7375d605c8"
      },
      "execution_count": null,
      "outputs": [
        {
          "output_type": "stream",
          "name": "stdout",
          "text": [
            "bring sunglasses\n"
          ]
        }
      ]
    },
    {
      "cell_type": "code",
      "source": [
        "marks= 60\n",
        "if marks>70 and marks<80:\n",
        "  print(\"Your grade is A\")\n",
        "elif marks<33 or marks==33:\n",
        "  print(\"You Failed\")\n",
        "else:\n",
        "  print(\"you need to improve!\")"
      ],
      "metadata": {
        "colab": {
          "base_uri": "https://localhost:8080/"
        },
        "id": "i_CapOB9MRiE",
        "outputId": "041ed71d-d9ec-458b-cde8-041dc649672a"
      },
      "execution_count": null,
      "outputs": [
        {
          "output_type": "stream",
          "name": "stdout",
          "text": [
            "you need to improve!\n"
          ]
        }
      ]
    },
    {
      "cell_type": "markdown",
      "source": [
        "![python1.PNG](data:image/png;base64,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)"
      ],
      "metadata": {
        "id": "goBgG0vGRNVB"
      }
    },
    {
      "cell_type": "code",
      "source": [
        "height= int(input(\"Enter Your Height in cm: \"))\n",
        "if height>=120:\n",
        "  print(\"You can ride the Rollercoaster\")\n",
        "else:\n",
        "  print(\"Sorry! you have to grow taller to enjoy the ride.\")\n"
      ],
      "metadata": {
        "colab": {
          "base_uri": "https://localhost:8080/"
        },
        "id": "RRH9j2nkM-sk",
        "outputId": "b227dd00-4834-4c50-8de7-dd24971104bf"
      },
      "execution_count": null,
      "outputs": [
        {
          "output_type": "stream",
          "name": "stdout",
          "text": [
            "Enter Your Height in cm: 120\n",
            "You can ride the Rollercoaster\n"
          ]
        }
      ]
    },
    {
      "cell_type": "code",
      "source": [
        "#Modulo Operator\n",
        "x= 10%3\n",
        "print(x)"
      ],
      "metadata": {
        "colab": {
          "base_uri": "https://localhost:8080/"
        },
        "id": "XhRGO08VQPRV",
        "outputId": "a73ed1f0-4b83-4ec1-9155-c0c62e676da2"
      },
      "execution_count": null,
      "outputs": [
        {
          "output_type": "stream",
          "name": "stdout",
          "text": [
            "1\n"
          ]
        }
      ]
    },
    {
      "cell_type": "code",
      "source": [
        "user_input=int(input(\"Enter a Number to check even or odd\"))\n",
        "if user_input%2==0:\n",
        "  print(\"The number you have inseted in Even number\")\n",
        "else:\n",
        "  print(\"The number you have inseted in Odd number\")"
      ],
      "metadata": {
        "colab": {
          "base_uri": "https://localhost:8080/"
        },
        "id": "uNtgwUblSLNl",
        "outputId": "b7b61c97-6cf1-478d-99ed-acea3fef2b10"
      },
      "execution_count": null,
      "outputs": [
        {
          "output_type": "stream",
          "name": "stdout",
          "text": [
            "Enter a Number to check even or odd0\n",
            "The number you have inseted in Even number\n"
          ]
        }
      ]
    },
    {
      "cell_type": "code",
      "source": [],
      "metadata": {
        "id": "zjiwVAlzTDF2"
      },
      "execution_count": null,
      "outputs": []
    }
  ]
}