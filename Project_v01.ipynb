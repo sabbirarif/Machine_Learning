{
  "cells": [
    {
      "cell_type": "markdown",
      "metadata": {
        "id": "view-in-github",
        "colab_type": "text"
      },
      "source": [
        "<a href=\"https://colab.research.google.com/github/sabbirarif/Machine_Learning/blob/main/Project_v01.ipynb\" target=\"_parent\"><img src=\"https://colab.research.google.com/assets/colab-badge.svg\" alt=\"Open In Colab\"/></a>"
      ]
    },
    {
      "cell_type": "code",
      "execution_count": null,
      "metadata": {
        "id": "3w_ak8eBUqXx"
      },
      "outputs": [],
      "source": [
        "import numpy as np\n",
        "import pandas as pd\n",
        "%matplotlib inline\n",
        "import matplotlib as mpl\n",
        "import matplotlib.pyplot as plt\n",
        "import os"
      ]
    },
    {
      "cell_type": "code",
      "execution_count": null,
      "metadata": {
        "id": "UR_0hkbXUqX0"
      },
      "outputs": [],
      "source": [
        "import tensorflow as tf\n",
        "from tensorflow import keras"
      ]
    },
    {
      "cell_type": "code",
      "source": [
        "from google.colab import drive\n",
        "drive.mount('/content/drive')"
      ],
      "metadata": {
        "colab": {
          "base_uri": "https://localhost:8080/"
        },
        "id": "EnTA5oyBU5fO",
        "outputId": "1d014cec-e098-46df-84e3-fb324e6d5838"
      },
      "execution_count": null,
      "outputs": [
        {
          "output_type": "stream",
          "name": "stdout",
          "text": [
            "Mounted at /content/drive\n"
          ]
        }
      ]
    },
    {
      "cell_type": "code",
      "execution_count": null,
      "metadata": {
        "id": "Zwz4_LgVUqX2"
      },
      "outputs": [],
      "source": [
        "train_dir = r'/content/drive/MyDrive/cats_and_dogs_small/train'\n",
        "validation_dir = r'/content/drive/MyDrive/cats_and_dogs_small/validation'\n",
        "test_dir =r'/content/drive/MyDrive/cats_and_dogs_small/test'"
      ]
    },
    {
      "cell_type": "markdown",
      "metadata": {
        "id": "Nx7sH2hTUqX3"
      },
      "source": [
        "### Data Preprocessing"
      ]
    },
    {
      "cell_type": "code",
      "execution_count": null,
      "metadata": {
        "id": "srRM_8JMUqX3"
      },
      "outputs": [],
      "source": [
        "from tensorflow.keras.preprocessing.image import ImageDataGenerator"
      ]
    },
    {
      "cell_type": "code",
      "execution_count": null,
      "metadata": {
        "colab": {
          "base_uri": "https://localhost:8080/"
        },
        "id": "dBUN-tM8UqX4",
        "outputId": "b4c06bf2-dadc-4ad3-e6bd-cf8860325af0"
      },
      "outputs": [
        {
          "output_type": "stream",
          "name": "stdout",
          "text": [
            "Found 2000 images belonging to 2 classes.\n",
            "Found 1000 images belonging to 2 classes.\n"
          ]
        }
      ],
      "source": [
        "# Generating batches of tensor image data\n",
        "train_datagen = ImageDataGenerator(rescale=1./255)\n",
        "test_datagen = ImageDataGenerator(rescale=1./255)\n",
        "\n",
        "train_generator = train_datagen.flow_from_directory(\n",
        "        train_dir,\n",
        "        target_size=(150, 150),\n",
        "        batch_size=20,\n",
        "        class_mode='binary')\n",
        "\n",
        "validation_generator = test_datagen.flow_from_directory(\n",
        "        validation_dir,\n",
        "        target_size=(150, 150),\n",
        "        batch_size=20,\n",
        "        class_mode='binary')"
      ]
    },
    {
      "cell_type": "code",
      "execution_count": null,
      "metadata": {
        "id": "aQ5QybrYUqX5"
      },
      "outputs": [],
      "source": [
        "from tensorflow.keras import layers\n",
        "from tensorflow.keras import models"
      ]
    },
    {
      "cell_type": "code",
      "execution_count": null,
      "metadata": {
        "id": "9nyxRMQkUqX5"
      },
      "outputs": [],
      "source": [
        "model = models.Sequential()\n",
        "\n",
        "model.add(layers.Conv2D(32, (3, 3), activation='relu',\n",
        "                        input_shape=(150, 150, 3)))\n",
        "model.add(layers.MaxPooling2D((2, 2)))\n",
        "\n",
        "model.add(layers.Conv2D(64, (3, 3), activation='relu'))\n",
        "model.add(layers.MaxPooling2D((2, 2)))\n",
        "\n",
        "model.add(layers.Conv2D(128, (3, 3), activation='relu'))\n",
        "model.add(layers.MaxPooling2D((2, 2)))\n",
        "\n",
        "model.add(layers.Conv2D(128, (3, 3), activation='relu'))\n",
        "model.add(layers.MaxPooling2D((2, 2)))\n",
        "\n",
        "model.add(layers.Flatten())\n",
        "\n",
        "model.add(layers.Dense(512, activation='relu'))\n",
        "\n",
        "model.add(layers.Dense(1, activation='sigmoid'))"
      ]
    },
    {
      "cell_type": "code",
      "execution_count": null,
      "metadata": {
        "colab": {
          "base_uri": "https://localhost:8080/"
        },
        "id": "epCASYC9UqX5",
        "outputId": "214d03fb-0028-47bd-b69f-47aa5b126002"
      },
      "outputs": [
        {
          "output_type": "stream",
          "name": "stdout",
          "text": [
            "Model: \"sequential\"\n",
            "_________________________________________________________________\n",
            " Layer (type)                Output Shape              Param #   \n",
            "=================================================================\n",
            " conv2d (Conv2D)             (None, 148, 148, 32)      896       \n",
            "                                                                 \n",
            " max_pooling2d (MaxPooling2  (None, 74, 74, 32)        0         \n",
            " D)                                                              \n",
            "                                                                 \n",
            " conv2d_1 (Conv2D)           (None, 72, 72, 64)        18496     \n",
            "                                                                 \n",
            " max_pooling2d_1 (MaxPoolin  (None, 36, 36, 64)        0         \n",
            " g2D)                                                            \n",
            "                                                                 \n",
            " conv2d_2 (Conv2D)           (None, 34, 34, 128)       73856     \n",
            "                                                                 \n",
            " max_pooling2d_2 (MaxPoolin  (None, 17, 17, 128)       0         \n",
            " g2D)                                                            \n",
            "                                                                 \n",
            " conv2d_3 (Conv2D)           (None, 15, 15, 128)       147584    \n",
            "                                                                 \n",
            " max_pooling2d_3 (MaxPoolin  (None, 7, 7, 128)         0         \n",
            " g2D)                                                            \n",
            "                                                                 \n",
            " flatten (Flatten)           (None, 6272)              0         \n",
            "                                                                 \n",
            " dense (Dense)               (None, 512)               3211776   \n",
            "                                                                 \n",
            " dense_1 (Dense)             (None, 1)                 513       \n",
            "                                                                 \n",
            "=================================================================\n",
            "Total params: 3453121 (13.17 MB)\n",
            "Trainable params: 3453121 (13.17 MB)\n",
            "Non-trainable params: 0 (0.00 Byte)\n",
            "_________________________________________________________________\n"
          ]
        }
      ],
      "source": [
        "model.summary()"
      ]
    },
    {
      "cell_type": "code",
      "execution_count": null,
      "metadata": {
        "colab": {
          "base_uri": "https://localhost:8080/"
        },
        "id": "K_NLbWFWUqX5",
        "outputId": "6a167a4d-1ec5-45ee-c36a-91325a9a34a7"
      },
      "outputs": [
        {
          "output_type": "stream",
          "name": "stderr",
          "text": [
            "WARNING:absl:`lr` is deprecated in Keras optimizer, please use `learning_rate` or use the legacy optimizer, e.g.,tf.keras.optimizers.legacy.RMSprop.\n"
          ]
        }
      ],
      "source": [
        "from tensorflow.keras import optimizers\n",
        "\n",
        "model.compile(loss='binary_crossentropy',\n",
        "              optimizer=optimizers.RMSprop(lr=1e-4),\n",
        "              metrics=['acc'])"
      ]
    },
    {
      "cell_type": "code",
      "execution_count": null,
      "metadata": {
        "colab": {
          "base_uri": "https://localhost:8080/"
        },
        "id": "ZI5meh0pUqX6",
        "outputId": "a7b4cd9f-7054-4bc7-b9da-5ae335d617bc"
      },
      "outputs": [
        {
          "output_type": "stream",
          "name": "stderr",
          "text": [
            "<ipython-input-20-84c1eb29e39c>:1: UserWarning: `Model.fit_generator` is deprecated and will be removed in a future version. Please use `Model.fit`, which supports generators.\n",
            "  history = model.fit_generator(\n"
          ]
        },
        {
          "output_type": "stream",
          "name": "stdout",
          "text": [
            "Epoch 1/20\n",
            " 38/100 [==========>...................] - ETA: 3:24 - loss: 0.7173 - acc: 0.5289"
          ]
        }
      ],
      "source": [
        "history = model.fit_generator(\n",
        "      train_generator,\n",
        "      steps_per_epoch=100,\n",
        "      epochs=20,\n",
        "      validation_data=validation_generator,\n",
        "      validation_steps=50)"
      ]
    },
    {
      "cell_type": "code",
      "execution_count": null,
      "metadata": {
        "id": "j4gsuL98UqX6",
        "outputId": "c44c1c69-15b3-46a6-a8bb-2befebc3ee54"
      },
      "outputs": [
        {
          "data": {
            "image/png": "[encoded data removed]",
            "text/plain": [
              "<Figure size 576x360 with 1 Axes>"
            ]
          },
          "metadata": {
            "needs_background": "light"
          },
          "output_type": "display_data"
        }
      ],
      "source": [
        "pd.DataFrame(history.history).plot(figsize=(8, 5))\n",
        "plt.grid(True)\n",
        "plt.gca().set_ylim(0, 1)\n",
        "plt.show()"
      ]
    },
    {
      "cell_type": "code",
      "execution_count": null,
      "metadata": {
        "id": "h5i895LuUqX6"
      },
      "outputs": [],
      "source": [
        "model.save(\"model.h5\")"
      ]
    },
    {
      "cell_type": "code",
      "execution_count": null,
      "metadata": {
        "id": "e-ERi-2eUqX6",
        "outputId": "5e014145-914c-4efb-a54f-2712a460a60c"
      },
      "outputs": [
        {
          "ename": "NameError",
          "evalue": "name 'model' is not defined",
          "output_type": "error",
          "traceback": [
            "\u001b[1;31m---------------------------------------------------------------------------\u001b[0m",
            "\u001b[1;31mNameError\u001b[0m                                 Traceback (most recent call last)",
            "\u001b[1;32m<ipython-input-6-6b5b8b724fe7>\u001b[0m in \u001b[0;36m<module>\u001b[1;34m\u001b[0m\n\u001b[0;32m      2\u001b[0m \u001b[1;33m\u001b[0m\u001b[0m\n\u001b[0;32m      3\u001b[0m \u001b[0mK\u001b[0m\u001b[1;33m.\u001b[0m\u001b[0mclear_session\u001b[0m\u001b[1;33m(\u001b[0m\u001b[1;33m)\u001b[0m\u001b[1;33m\u001b[0m\u001b[1;33m\u001b[0m\u001b[0m\n\u001b[1;32m----> 4\u001b[1;33m \u001b[1;32mdel\u001b[0m \u001b[0mmodel\u001b[0m\u001b[1;33m\u001b[0m\u001b[1;33m\u001b[0m\u001b[0m\n\u001b[0m",
            "\u001b[1;31mNameError\u001b[0m: name 'model' is not defined"
          ]
        }
      ],
      "source": [
        "from tensorflow.keras import backend as K\n",
        "\n",
        "K.clear_session()\n",
        "del model"
      ]
    },
    {
      "cell_type": "code",
      "execution_count": null,
      "metadata": {
        "id": "Bteu5w04UqX6",
        "outputId": "c2113d13-f88c-44ab-8966-76e6218abd8a"
      },
      "outputs": [
        {
          "name": "stdout",
          "output_type": "stream",
          "text": [
            "Found 2000 images belonging to 2 classes.\n",
            "Found 1000 images belonging to 2 classes.\n"
          ]
        }
      ],
      "source": [
        "\n",
        "train_datagen = ImageDataGenerator(\n",
        "    rescale=1./255,\n",
        "    rotation_range=40,\n",
        "    width_shift_range=0.2,\n",
        "    height_shift_range=0.2,\n",
        "    shear_range=0.2,\n",
        "    zoom_range=0.2,\n",
        "    horizontal_flip=True,)\n",
        "\n",
        "test_datagen = ImageDataGenerator(rescale=1./255)\n",
        "\n",
        "train_generator = train_datagen.flow_from_directory(\n",
        "        train_dir,\n",
        "        target_size=(150, 150),\n",
        "        batch_size=32,\n",
        "        class_mode='binary')\n",
        "\n",
        "validation_generator = test_datagen.flow_from_directory(\n",
        "        validation_dir,\n",
        "        target_size=(150, 150),\n",
        "        batch_size=32,\n",
        "        class_mode='binary')\n"
      ]
    },
    {
      "cell_type": "code",
      "execution_count": null,
      "metadata": {
        "id": "NIAxFIfTUqX7"
      },
      "outputs": [],
      "source": [
        "model = models.Sequential()\n",
        "model.add(layers.Conv2D(32, (3, 3), activation='relu',\n",
        "                        input_shape=(150, 150, 3)))\n",
        "model.add(layers.MaxPooling2D((2, 2)))\n",
        "model.add(layers.Conv2D(64, (3, 3), activation='relu'))\n",
        "model.add(layers.MaxPooling2D((2, 2)))\n",
        "model.add(layers.Conv2D(128, (3, 3), activation='relu'))\n",
        "model.add(layers.MaxPooling2D((2, 2)))\n",
        "model.add(layers.Conv2D(128, (3, 3), activation='relu'))\n",
        "model.add(layers.MaxPooling2D((2, 2)))\n",
        "model.add(layers.Flatten())\n",
        "model.add(layers.Dropout(0.5))\n",
        "model.add(layers.Dense(512, activation='relu'))\n",
        "model.add(layers.Dense(1, activation='sigmoid'))\n",
        "\n",
        "model.compile(loss='binary_crossentropy',\n",
        "              optimizer=optimizers.RMSprop(lr=1e-4),\n",
        "              metrics=['acc'])"
      ]
    },
    {
      "cell_type": "code",
      "execution_count": null,
      "metadata": {
        "id": "v650HvnyUqX7",
        "outputId": "09d67074-c43a-4da6-baad-211afd084280"
      },
      "outputs": [
        {
          "name": "stdout",
          "output_type": "stream",
          "text": [
            "Epoch 1/100\n",
            "100/100 [==============================] - 149s 1s/step - loss: 0.6895 - acc: 0.5306 - val_loss: 0.6755 - val_acc: 0.5933\n",
            "Epoch 2/100\n",
            "100/100 [==============================] - 150s 2s/step - loss: 0.6789 - acc: 0.5568 - val_loss: 0.6478 - val_acc: 0.6237\n",
            "Epoch 3/100\n",
            "100/100 [==============================] - 150s 1s/step - loss: 0.6656 - acc: 0.5864 - val_loss: 0.6474 - val_acc: 0.6022\n",
            "Epoch 4/100\n",
            "100/100 [==============================] - 150s 2s/step - loss: 0.6441 - acc: 0.6228 - val_loss: 0.7096 - val_acc: 0.5254\n",
            "Epoch 5/100\n",
            "100/100 [==============================] - 148s 1s/step - loss: 0.6280 - acc: 0.6436 - val_loss: 0.6139 - val_acc: 0.6478\n",
            "Epoch 6/100\n",
            "100/100 [==============================] - 149s 1s/step - loss: 0.6113 - acc: 0.6540 - val_loss: 0.5834 - val_acc: 0.6802\n",
            "Epoch 7/100\n",
            "100/100 [==============================] - 149s 1s/step - loss: 0.6022 - acc: 0.6652 - val_loss: 0.5726 - val_acc: 0.6929\n",
            "Epoch 8/100\n",
            "100/100 [==============================] - 149s 1s/step - loss: 0.5894 - acc: 0.6824 - val_loss: 0.5561 - val_acc: 0.7043\n",
            "Epoch 9/100\n",
            "100/100 [==============================] - 149s 1s/step - loss: 0.5811 - acc: 0.6928 - val_loss: 0.5925 - val_acc: 0.6827\n",
            "Epoch 10/100\n",
            "100/100 [==============================] - 148s 1s/step - loss: 0.5697 - acc: 0.6973 - val_loss: 0.5712 - val_acc: 0.6923\n",
            "Epoch 11/100\n",
            "100/100 [==============================] - 150s 1s/step - loss: 0.5618 - acc: 0.7111 - val_loss: 0.5322 - val_acc: 0.7329\n",
            "Epoch 12/100\n",
            "100/100 [==============================] - 150s 1s/step - loss: 0.5635 - acc: 0.7121 - val_loss: 0.5354 - val_acc: 0.7329\n",
            "Epoch 13/100\n",
            "100/100 [==============================] - 168s 2s/step - loss: 0.5639 - acc: 0.7117 - val_loss: 0.5300 - val_acc: 0.7214\n",
            "Epoch 14/100\n",
            "100/100 [==============================] - 163s 2s/step - loss: 0.5447 - acc: 0.7336 - val_loss: 0.5456 - val_acc: 0.7240\n",
            "Epoch 15/100\n",
            "100/100 [==============================] - 164s 2s/step - loss: 0.5522 - acc: 0.7170 - val_loss: 0.5355 - val_acc: 0.7259\n",
            "Epoch 16/100\n",
            "100/100 [==============================] - 153s 2s/step - loss: 0.5367 - acc: 0.7289 - val_loss: 0.5369 - val_acc: 0.7202\n",
            "Epoch 17/100\n",
            "100/100 [==============================] - 159s 2s/step - loss: 0.5375 - acc: 0.7247 - val_loss: 0.5304 - val_acc: 0.7272\n",
            "Epoch 18/100\n",
            "100/100 [==============================] - 166s 2s/step - loss: 0.5328 - acc: 0.7320 - val_loss: 0.5113 - val_acc: 0.7354\n",
            "Epoch 19/100\n",
            "100/100 [==============================] - 162s 2s/step - loss: 0.5315 - acc: 0.7349 - val_loss: 0.5108 - val_acc: 0.7418\n",
            "Epoch 20/100\n",
            "100/100 [==============================] - 160s 2s/step - loss: 0.5175 - acc: 0.7427 - val_loss: 0.5527 - val_acc: 0.7246\n",
            "Epoch 21/100\n",
            "100/100 [==============================] - 160s 2s/step - loss: 0.5212 - acc: 0.7342 - val_loss: 0.5092 - val_acc: 0.7348\n",
            "Epoch 22/100\n",
            "100/100 [==============================] - 160s 2s/step - loss: 0.5147 - acc: 0.7415 - val_loss: 0.4865 - val_acc: 0.7627\n",
            "Epoch 23/100\n",
            "100/100 [==============================] - 159s 2s/step - loss: 0.5103 - acc: 0.7478 - val_loss: 0.4803 - val_acc: 0.7646\n",
            "Epoch 24/100\n",
            "100/100 [==============================] - 149s 1s/step - loss: 0.5092 - acc: 0.7535 - val_loss: 0.4904 - val_acc: 0.7544\n",
            "Epoch 25/100\n",
            "100/100 [==============================] - 149s 1s/step - loss: 0.4978 - acc: 0.7576 - val_loss: 0.4885 - val_acc: 0.7582\n",
            "Epoch 26/100\n",
            "100/100 [==============================] - 149s 1s/step - loss: 0.4992 - acc: 0.7519 - val_loss: 0.5421 - val_acc: 0.7329\n",
            "Epoch 27/100\n",
            "100/100 [==============================] - 149s 1s/step - loss: 0.4969 - acc: 0.7554 - val_loss: 0.4897 - val_acc: 0.7582\n",
            "Epoch 28/100\n",
            "100/100 [==============================] - 151s 2s/step - loss: 0.5004 - acc: 0.7491 - val_loss: 0.4973 - val_acc: 0.7646\n",
            "Epoch 29/100\n",
            "100/100 [==============================] - 148s 1s/step - loss: 0.4828 - acc: 0.7623 - val_loss: 0.4882 - val_acc: 0.7703\n",
            "Epoch 30/100\n",
            "100/100 [==============================] - 149s 1s/step - loss: 0.4786 - acc: 0.7645 - val_loss: 0.5081 - val_acc: 0.7595\n",
            "Epoch 31/100\n",
            "100/100 [==============================] - 149s 1s/step - loss: 0.4939 - acc: 0.7547 - val_loss: 0.4879 - val_acc: 0.7779\n",
            "Epoch 32/100\n",
            "100/100 [==============================] - 148s 1s/step - loss: 0.4766 - acc: 0.7702 - val_loss: 0.4910 - val_acc: 0.7633\n",
            "Epoch 33/100\n",
            "100/100 [==============================] - 147s 1s/step - loss: 0.4744 - acc: 0.7742 - val_loss: 0.4790 - val_acc: 0.7824\n",
            "Epoch 34/100\n",
            "100/100 [==============================] - 146s 1s/step - loss: 0.4754 - acc: 0.7718 - val_loss: 0.4727 - val_acc: 0.7671\n",
            "Epoch 35/100\n",
            "100/100 [==============================] - 148s 1s/step - loss: 0.4855 - acc: 0.7594 - val_loss: 0.4620 - val_acc: 0.7798\n",
            "Epoch 36/100\n",
            "100/100 [==============================] - 151s 2s/step - loss: 0.4713 - acc: 0.7686 - val_loss: 0.4866 - val_acc: 0.7678\n",
            "Epoch 37/100\n",
            "100/100 [==============================] - 147s 1s/step - loss: 0.4759 - acc: 0.7730 - val_loss: 0.4951 - val_acc: 0.7792\n",
            "Epoch 38/100\n",
            "100/100 [==============================] - 147s 1s/step - loss: 0.4600 - acc: 0.7762 - val_loss: 0.4599 - val_acc: 0.7843\n",
            "Epoch 39/100\n",
            "100/100 [==============================] - 147s 1s/step - loss: 0.4544 - acc: 0.7855 - val_loss: 0.4805 - val_acc: 0.7824\n",
            "Epoch 40/100\n",
            "100/100 [==============================] - 148s 1s/step - loss: 0.4564 - acc: 0.7845 - val_loss: 0.4441 - val_acc: 0.7754\n",
            "Epoch 41/100\n",
            "100/100 [==============================] - 146s 1s/step - loss: 0.4534 - acc: 0.7914 - val_loss: 0.4802 - val_acc: 0.7747\n",
            "Epoch 42/100\n",
            "100/100 [==============================] - 147s 1s/step - loss: 0.4564 - acc: 0.7857 - val_loss: 0.5015 - val_acc: 0.7443\n",
            "Epoch 43/100\n",
            "100/100 [==============================] - 148s 1s/step - loss: 0.4526 - acc: 0.7860 - val_loss: 0.4977 - val_acc: 0.7570\n",
            "Epoch 44/100\n",
            "100/100 [==============================] - 148s 1s/step - loss: 0.4399 - acc: 0.7912 - val_loss: 0.4571 - val_acc: 0.7805\n",
            "Epoch 45/100\n",
            "100/100 [==============================] - 146s 1s/step - loss: 0.4448 - acc: 0.7882 - val_loss: 0.4406 - val_acc: 0.7957\n",
            "Epoch 46/100\n",
            "100/100 [==============================] - 146s 1s/step - loss: 0.4439 - acc: 0.7844 - val_loss: 0.4856 - val_acc: 0.7576\n",
            "Epoch 47/100\n",
            "100/100 [==============================] - 147s 1s/step - loss: 0.4470 - acc: 0.7895 - val_loss: 0.4845 - val_acc: 0.7703\n",
            "Epoch 48/100\n",
            "100/100 [==============================] - 147s 1s/step - loss: 0.4381 - acc: 0.7971 - val_loss: 0.4635 - val_acc: 0.7881\n",
            "Epoch 49/100\n",
            "100/100 [==============================] - 147s 1s/step - loss: 0.4305 - acc: 0.8008 - val_loss: 0.4848 - val_acc: 0.7697\n",
            "Epoch 50/100\n",
            "100/100 [==============================] - 147s 1s/step - loss: 0.4284 - acc: 0.7987 - val_loss: 0.4706 - val_acc: 0.7995\n",
            "Epoch 51/100\n",
            "100/100 [==============================] - 146s 1s/step - loss: 0.4408 - acc: 0.7917 - val_loss: 0.4331 - val_acc: 0.7925\n",
            "Epoch 52/100\n",
            "100/100 [==============================] - 148s 1s/step - loss: 0.4072 - acc: 0.8157 - val_loss: 0.4309 - val_acc: 0.7976\n",
            "Epoch 53/100\n",
            "100/100 [==============================] - 147s 1s/step - loss: 0.4227 - acc: 0.8100 - val_loss: 0.4451 - val_acc: 0.8058\n",
            "Epoch 54/100\n",
            "100/100 [==============================] - 146s 1s/step - loss: 0.4261 - acc: 0.8008 - val_loss: 0.4162 - val_acc: 0.8160\n",
            "Epoch 55/100\n",
            "100/100 [==============================] - 148s 1s/step - loss: 0.4087 - acc: 0.8103 - val_loss: 0.4275 - val_acc: 0.8039\n",
            "Epoch 56/100\n",
            "100/100 [==============================] - 147s 1s/step - loss: 0.4069 - acc: 0.8166 - val_loss: 0.4710 - val_acc: 0.7919\n",
            "Epoch 57/100\n",
            "100/100 [==============================] - 147s 1s/step - loss: 0.4173 - acc: 0.8043 - val_loss: 0.4531 - val_acc: 0.7855\n",
            "Epoch 58/100\n",
            "100/100 [==============================] - 146s 1s/step - loss: 0.4027 - acc: 0.8229 - val_loss: 0.4644 - val_acc: 0.7995\n",
            "Epoch 59/100\n",
            "100/100 [==============================] - 146s 1s/step - loss: 0.4065 - acc: 0.8150 - val_loss: 0.4193 - val_acc: 0.8135\n",
            "Epoch 60/100\n",
            "100/100 [==============================] - 147s 1s/step - loss: 0.4173 - acc: 0.8075 - val_loss: 0.4070 - val_acc: 0.8084\n",
            "Epoch 61/100\n",
            "100/100 [==============================] - 147s 1s/step - loss: 0.4097 - acc: 0.8153 - val_loss: 0.4476 - val_acc: 0.7824\n"
          ]
        },
        {
          "name": "stdout",
          "output_type": "stream",
          "text": [
            "Epoch 62/100\n",
            "100/100 [==============================] - 165s 2s/step - loss: 0.4071 - acc: 0.8191 - val_loss: 0.4251 - val_acc: 0.8204\n",
            "Epoch 63/100\n",
            "100/100 [==============================] - 154s 2s/step - loss: 0.3966 - acc: 0.8172 - val_loss: 0.4311 - val_acc: 0.8014\n",
            "Epoch 64/100\n",
            "100/100 [==============================] - 147s 1s/step - loss: 0.3856 - acc: 0.8258 - val_loss: 0.4139 - val_acc: 0.8033\n",
            "Epoch 65/100\n",
            "100/100 [==============================] - 147s 1s/step - loss: 0.3947 - acc: 0.8241 - val_loss: 0.4199 - val_acc: 0.8109\n",
            "Epoch 66/100\n",
            "100/100 [==============================] - 146s 1s/step - loss: 0.3963 - acc: 0.8188 - val_loss: 0.4157 - val_acc: 0.8192\n",
            "Epoch 67/100\n",
            "100/100 [==============================] - 147s 1s/step - loss: 0.3800 - acc: 0.8269 - val_loss: 0.4464 - val_acc: 0.8135\n",
            "Epoch 68/100\n",
            "100/100 [==============================] - 150s 1s/step - loss: 0.3739 - acc: 0.8393 - val_loss: 0.4845 - val_acc: 0.7868\n",
            "Epoch 69/100\n",
            "100/100 [==============================] - 147s 1s/step - loss: 0.3824 - acc: 0.8251 - val_loss: 0.4055 - val_acc: 0.8331\n",
            "Epoch 70/100\n",
            "100/100 [==============================] - 147s 1s/step - loss: 0.3962 - acc: 0.8197 - val_loss: 0.4136 - val_acc: 0.8223\n",
            "Epoch 71/100\n",
            "100/100 [==============================] - 146s 1s/step - loss: 0.3957 - acc: 0.8229 - val_loss: 0.4499 - val_acc: 0.8109\n",
            "Epoch 72/100\n",
            "100/100 [==============================] - 147s 1s/step - loss: 0.3845 - acc: 0.8326 - val_loss: 0.4487 - val_acc: 0.8084\n",
            "Epoch 73/100\n",
            "100/100 [==============================] - 146s 1s/step - loss: 0.3897 - acc: 0.8242 - val_loss: 0.4693 - val_acc: 0.7773\n",
            "Epoch 74/100\n",
            "100/100 [==============================] - 148s 1s/step - loss: 0.3697 - acc: 0.8317 - val_loss: 0.4344 - val_acc: 0.8141\n",
            "Epoch 75/100\n",
            "100/100 [==============================] - 146s 1s/step - loss: 0.3723 - acc: 0.8362 - val_loss: 0.4212 - val_acc: 0.8211\n",
            "Epoch 76/100\n",
            "100/100 [==============================] - 147s 1s/step - loss: 0.3720 - acc: 0.8359 - val_loss: 0.4294 - val_acc: 0.8249\n",
            "Epoch 77/100\n",
            "100/100 [==============================] - 147s 1s/step - loss: 0.3743 - acc: 0.8247 - val_loss: 0.4288 - val_acc: 0.8230\n",
            "Epoch 78/100\n",
            "100/100 [==============================] - 146s 1s/step - loss: 0.3775 - acc: 0.8346 - val_loss: 0.4165 - val_acc: 0.8261\n",
            "Epoch 79/100\n",
            "100/100 [==============================] - 147s 1s/step - loss: 0.3725 - acc: 0.8292 - val_loss: 0.4503 - val_acc: 0.8185\n",
            "Epoch 80/100\n",
            "100/100 [==============================] - 146s 1s/step - loss: 0.3556 - acc: 0.8411 - val_loss: 0.4371 - val_acc: 0.8052\n",
            "Epoch 81/100\n",
            "100/100 [==============================] - 148s 1s/step - loss: 0.3659 - acc: 0.8365 - val_loss: 0.4299 - val_acc: 0.8242\n",
            "Epoch 82/100\n",
            "100/100 [==============================] - 147s 1s/step - loss: 0.3584 - acc: 0.8373 - val_loss: 0.4228 - val_acc: 0.8211\n",
            "Epoch 83/100\n",
            "100/100 [==============================] - 147s 1s/step - loss: 0.3677 - acc: 0.8346 - val_loss: 0.3766 - val_acc: 0.8496\n",
            "Epoch 84/100\n",
            "100/100 [==============================] - 147s 1s/step - loss: 0.3576 - acc: 0.8464 - val_loss: 0.4444 - val_acc: 0.7982\n",
            "Epoch 85/100\n",
            "100/100 [==============================] - 146s 1s/step - loss: 0.3580 - acc: 0.8359 - val_loss: 0.4038 - val_acc: 0.8420\n",
            "Epoch 86/100\n",
            "100/100 [==============================] - 147s 1s/step - loss: 0.3419 - acc: 0.8532 - val_loss: 0.4149 - val_acc: 0.8109\n",
            "Epoch 87/100\n",
            "100/100 [==============================] - 147s 1s/step - loss: 0.3535 - acc: 0.8445 - val_loss: 0.4051 - val_acc: 0.8312\n",
            "Epoch 88/100\n",
            "100/100 [==============================] - 147s 1s/step - loss: 0.3532 - acc: 0.8376 - val_loss: 0.4162 - val_acc: 0.8109\n",
            "Epoch 89/100\n",
            "100/100 [==============================] - 146s 1s/step - loss: 0.3466 - acc: 0.8441 - val_loss: 0.4162 - val_acc: 0.8363\n",
            "Epoch 90/100\n",
            "100/100 [==============================] - 146s 1s/step - loss: 0.3393 - acc: 0.8441 - val_loss: 0.3938 - val_acc: 0.8439\n",
            "Epoch 91/100\n",
            "100/100 [==============================] - 147s 1s/step - loss: 0.3481 - acc: 0.8467 - val_loss: 0.3872 - val_acc: 0.8439\n",
            "Epoch 92/100\n",
            "100/100 [==============================] - 148s 1s/step - loss: 0.3385 - acc: 0.8504 - val_loss: 0.4052 - val_acc: 0.8280\n",
            "Epoch 93/100\n",
            "100/100 [==============================] - 147s 1s/step - loss: 0.3376 - acc: 0.8526 - val_loss: 0.4261 - val_acc: 0.8198\n",
            "Epoch 94/100\n",
            "100/100 [==============================] - 147s 1s/step - loss: 0.3222 - acc: 0.8555 - val_loss: 0.4526 - val_acc: 0.8027\n",
            "Epoch 95/100\n",
            "100/100 [==============================] - 147s 1s/step - loss: 0.3349 - acc: 0.8577 - val_loss: 0.4315 - val_acc: 0.8230\n",
            "Epoch 96/100\n",
            "100/100 [==============================] - 146s 1s/step - loss: 0.3373 - acc: 0.8576 - val_loss: 0.3977 - val_acc: 0.8395\n",
            "Epoch 97/100\n",
            "100/100 [==============================] - 146s 1s/step - loss: 0.3265 - acc: 0.8605 - val_loss: 0.3680 - val_acc: 0.8439\n",
            "Epoch 98/100\n",
            "100/100 [==============================] - 148s 1s/step - loss: 0.3287 - acc: 0.8564 - val_loss: 0.3834 - val_acc: 0.8363\n",
            "Epoch 99/100\n",
            "100/100 [==============================] - 147s 1s/step - loss: 0.3269 - acc: 0.8558 - val_loss: 0.4536 - val_acc: 0.8280\n",
            "Epoch 100/100\n",
            "100/100 [==============================] - 147s 1s/step - loss: 0.3220 - acc: 0.8580 - val_loss: 0.4443 - val_acc: 0.7957\n"
          ]
        }
      ],
      "source": [
        "history = model.fit_generator(\n",
        "      train_generator,\n",
        "      steps_per_epoch=100,\n",
        "      epochs=100,\n",
        "      validation_data=validation_generator,\n",
        "      validation_steps=50)"
      ]
    },
    {
      "cell_type": "code",
      "execution_count": null,
      "metadata": {
        "id": "uodnwC5YUqX7"
      },
      "outputs": [],
      "source": [
        "model.save(\"project_cnn.h5\")"
      ]
    },
    {
      "cell_type": "code",
      "execution_count": null,
      "metadata": {
        "id": "TV7nH8rpUqX7",
        "outputId": "31502fa5-591a-41a9-ae52-b06b33709d92"
      },
      "outputs": [
        {
          "data": {
            "image/png": "[encoded data removed]",
            "text/plain": [
              "<Figure size 576x360 with 1 Axes>"
            ]
          },
          "metadata": {
            "needs_background": "light"
          },
          "output_type": "display_data"
        }
      ],
      "source": [
        "pd.DataFrame(history.history).plot(figsize=(8, 5))\n",
        "plt.grid(True)\n",
        "plt.gca().set_ylim(0, 1)\n",
        "plt.show()"
      ]
    },
    {
      "cell_type": "code",
      "execution_count": null,
      "metadata": {
        "id": "2SXK8j91UqX7",
        "outputId": "7308fa16-4485-448d-b078-ab63dde17c56"
      },
      "outputs": [
        {
          "ename": "NameError",
          "evalue": "name 'model' is not defined",
          "output_type": "error",
          "traceback": [
            "\u001b[1;31m---------------------------------------------------------------------------\u001b[0m",
            "\u001b[1;31mNameError\u001b[0m                                 Traceback (most recent call last)",
            "\u001b[1;32m<ipython-input-3-d7a21589d4c1>\u001b[0m in \u001b[0;36m<module>\u001b[1;34m\u001b[0m\n\u001b[0;32m      1\u001b[0m \u001b[0mkeras\u001b[0m\u001b[1;33m.\u001b[0m\u001b[0mbackend\u001b[0m\u001b[1;33m.\u001b[0m\u001b[0mclear_session\u001b[0m\u001b[1;33m\u001b[0m\u001b[1;33m\u001b[0m\u001b[0m\n\u001b[1;32m----> 2\u001b[1;33m \u001b[1;32mdel\u001b[0m \u001b[0mmodel\u001b[0m\u001b[1;33m\u001b[0m\u001b[1;33m\u001b[0m\u001b[0m\n\u001b[0m",
            "\u001b[1;31mNameError\u001b[0m: name 'model' is not defined"
          ]
        }
      ],
      "source": [
        "keras.backend.clear_session\n",
        "del model"
      ]
    },
    {
      "cell_type": "code",
      "execution_count": null,
      "metadata": {
        "id": "nwcGikKWUqX7"
      },
      "outputs": [],
      "source": []
    },
    {
      "cell_type": "code",
      "execution_count": null,
      "metadata": {
        "id": "My26aadMUqX8"
      },
      "outputs": [],
      "source": []
    },
    {
      "cell_type": "code",
      "execution_count": null,
      "metadata": {
        "id": "4v0KE1AjUqX8"
      },
      "outputs": [],
      "source": []
    },
    {
      "cell_type": "code",
      "execution_count": null,
      "metadata": {
        "id": "JKCtykZUUqX8"
      },
      "outputs": [],
      "source": []
    },
    {
      "cell_type": "markdown",
      "metadata": {
        "id": "HxmiPN7dUqX8"
      },
      "source": [
        "# VGG16"
      ]
    },
    {
      "cell_type": "code",
      "execution_count": null,
      "metadata": {
        "id": "MVhV2wjNUqX8",
        "outputId": "09f35ee6-98ac-4a3b-90ce-ab03873ee5e7"
      },
      "outputs": [
        {
          "name": "stdout",
          "output_type": "stream",
          "text": [
            "Found 2000 images belonging to 2 classes.\n",
            "Found 1000 images belonging to 2 classes.\n"
          ]
        }
      ],
      "source": [
        "from tensorflow.keras.preprocessing.image import ImageDataGenerator\n",
        "\n",
        "train_datagen = ImageDataGenerator(\n",
        "      rescale=1./255,\n",
        "      rotation_range=40,\n",
        "      width_shift_range=0.2,\n",
        "      height_shift_range=0.2,\n",
        "      shear_range=0.2,\n",
        "      zoom_range=0.2,\n",
        "      horizontal_flip=True)\n",
        "\n",
        "test_datagen = ImageDataGenerator(rescale=1./255)\n",
        "\n",
        "train_generator = train_datagen.flow_from_directory(\n",
        "        train_dir,\n",
        "        target_size=(150, 150),\n",
        "        batch_size=20,\n",
        "        class_mode='binary')\n",
        "\n",
        "validation_generator = test_datagen.flow_from_directory(\n",
        "        validation_dir,\n",
        "        target_size=(150, 150),\n",
        "        batch_size=20,\n",
        "        class_mode='binary')"
      ]
    },
    {
      "cell_type": "code",
      "execution_count": null,
      "metadata": {
        "id": "FFZkpPENUqX8"
      },
      "outputs": [],
      "source": [
        "from tensorflow.keras.applications import VGG16\n",
        "\n",
        "conv_base = VGG16(weights='imagenet',\n",
        "                  include_top=False,\n",
        "                  input_shape=(150, 150, 3))"
      ]
    },
    {
      "cell_type": "code",
      "execution_count": null,
      "metadata": {
        "id": "Z40NOvnIUqX8",
        "outputId": "642c9e56-378b-4c2f-d8b4-d13df2670f9b"
      },
      "outputs": [
        {
          "name": "stdout",
          "output_type": "stream",
          "text": [
            "Model: \"vgg16\"\n",
            "_________________________________________________________________\n",
            "Layer (type)                 Output Shape              Param #   \n",
            "=================================================================\n",
            "input_1 (InputLayer)         [(None, 150, 150, 3)]     0         \n",
            "_________________________________________________________________\n",
            "block1_conv1 (Conv2D)        (None, 150, 150, 64)      1792      \n",
            "_________________________________________________________________\n",
            "block1_conv2 (Conv2D)        (None, 150, 150, 64)      36928     \n",
            "_________________________________________________________________\n",
            "block1_pool (MaxPooling2D)   (None, 75, 75, 64)        0         \n",
            "_________________________________________________________________\n",
            "block2_conv1 (Conv2D)        (None, 75, 75, 128)       73856     \n",
            "_________________________________________________________________\n",
            "block2_conv2 (Conv2D)        (None, 75, 75, 128)       147584    \n",
            "_________________________________________________________________\n",
            "block2_pool (MaxPooling2D)   (None, 37, 37, 128)       0         \n",
            "_________________________________________________________________\n",
            "block3_conv1 (Conv2D)        (None, 37, 37, 256)       295168    \n",
            "_________________________________________________________________\n",
            "block3_conv2 (Conv2D)        (None, 37, 37, 256)       590080    \n",
            "_________________________________________________________________\n",
            "block3_conv3 (Conv2D)        (None, 37, 37, 256)       590080    \n",
            "_________________________________________________________________\n",
            "block3_pool (MaxPooling2D)   (None, 18, 18, 256)       0         \n",
            "_________________________________________________________________\n",
            "block4_conv1 (Conv2D)        (None, 18, 18, 512)       1180160   \n",
            "_________________________________________________________________\n",
            "block4_conv2 (Conv2D)        (None, 18, 18, 512)       2359808   \n",
            "_________________________________________________________________\n",
            "block4_conv3 (Conv2D)        (None, 18, 18, 512)       2359808   \n",
            "_________________________________________________________________\n",
            "block4_pool (MaxPooling2D)   (None, 9, 9, 512)         0         \n",
            "_________________________________________________________________\n",
            "block5_conv1 (Conv2D)        (None, 9, 9, 512)         2359808   \n",
            "_________________________________________________________________\n",
            "block5_conv2 (Conv2D)        (None, 9, 9, 512)         2359808   \n",
            "_________________________________________________________________\n",
            "block5_conv3 (Conv2D)        (None, 9, 9, 512)         2359808   \n",
            "_________________________________________________________________\n",
            "block5_pool (MaxPooling2D)   (None, 4, 4, 512)         0         \n",
            "=================================================================\n",
            "Total params: 14,714,688\n",
            "Trainable params: 14,714,688\n",
            "Non-trainable params: 0\n",
            "_________________________________________________________________\n"
          ]
        }
      ],
      "source": [
        "conv_base.summary()"
      ]
    },
    {
      "cell_type": "code",
      "execution_count": null,
      "metadata": {
        "id": "TpSpOThxUqX9"
      },
      "outputs": [],
      "source": [
        "from tensorflow.keras import models\n",
        "from tensorflow.keras import layers\n",
        "\n",
        "model = models.Sequential()\n",
        "model.add(conv_base)\n",
        "model.add(layers.Flatten())\n",
        "model.add(layers.Dense(256, activation='relu'))\n",
        "model.add(layers.Dense(1, activation='sigmoid'))"
      ]
    },
    {
      "cell_type": "code",
      "execution_count": null,
      "metadata": {
        "collapsed": true,
        "id": "hBG9cyyMUqX9",
        "outputId": "b4683c39-5d90-4cb5-cf0e-cf3b639ad727"
      },
      "outputs": [
        {
          "name": "stdout",
          "output_type": "stream",
          "text": [
            "Model: \"sequential\"\n",
            "_________________________________________________________________\n",
            "Layer (type)                 Output Shape              Param #   \n",
            "=================================================================\n",
            "vgg16 (Model)                (None, 4, 4, 512)         14714688  \n",
            "_________________________________________________________________\n",
            "flatten (Flatten)            (None, 8192)              0         \n",
            "_________________________________________________________________\n",
            "dense (Dense)                (None, 256)               2097408   \n",
            "_________________________________________________________________\n",
            "dense_1 (Dense)              (None, 1)                 257       \n",
            "=================================================================\n",
            "Total params: 16,812,353\n",
            "Trainable params: 16,812,353\n",
            "Non-trainable params: 0\n",
            "_________________________________________________________________\n"
          ]
        }
      ],
      "source": [
        "model.summary()"
      ]
    },
    {
      "cell_type": "code",
      "execution_count": null,
      "metadata": {
        "id": "zG3LNYQUUqX9"
      },
      "outputs": [],
      "source": [
        "# conv_base.trainable = False"
      ]
    },
    {
      "cell_type": "code",
      "execution_count": null,
      "metadata": {
        "id": "N8APz-3CUqX9"
      },
      "outputs": [],
      "source": [
        "from tensorflow.keras import optimizers\n",
        "\n",
        "model.compile(loss='binary_crossentropy',\n",
        "              optimizer=optimizers.RMSprop(lr=2e-5),\n",
        "              metrics=['acc'])"
      ]
    },
    {
      "cell_type": "code",
      "execution_count": null,
      "metadata": {
        "id": "WDJnV-oBUqYF"
      },
      "outputs": [],
      "source": [
        "checkpoint_cb = keras.callbacks.ModelCheckpoint(\"CNN_Project_Model-{epoch:02d}.h5\")"
      ]
    },
    {
      "cell_type": "code",
      "execution_count": null,
      "metadata": {
        "collapsed": true,
        "id": "8DqE8pCyUqYF",
        "outputId": "b730d787-d91c-4b84-a23f-af00fbffc354"
      },
      "outputs": [
        {
          "name": "stdout",
          "output_type": "stream",
          "text": [
            "Epoch 1/30\n",
            "WARNING:tensorflow:From C:\\ProgramData\\Anaconda3\\lib\\site-packages\\tensorflow_core\\python\\ops\\math_grad.py:1394: where (from tensorflow.python.ops.array_ops) is deprecated and will be removed in a future version.\n",
            "Instructions for updating:\n",
            "Use tf.where in 2.0, which has the same broadcast rule as np.where\n",
            "100/100 [==============================] - 1080s 11s/step - loss: 0.4760 - acc: 0.7605 - val_loss: 0.2296 - val_acc: 0.9060\n",
            "Epoch 2/30\n",
            "100/100 [==============================] - 1079s 11s/step - loss: 0.2812 - acc: 0.8790 - val_loss: 0.1333 - val_acc: 0.9430\n",
            "Epoch 3/30\n",
            "100/100 [==============================] - 1080s 11s/step - loss: 0.2061 - acc: 0.9115 - val_loss: 0.1012 - val_acc: 0.9630\n",
            "Epoch 4/30\n",
            "100/100 [==============================] - 1083s 11s/step - loss: 0.1911 - acc: 0.9250 - val_loss: 0.0926 - val_acc: 0.9640\n",
            "Epoch 5/30\n",
            "100/100 [==============================] - 1079s 11s/step - loss: 0.1531 - acc: 0.9380 - val_loss: 0.0908 - val_acc: 0.9670\n",
            "Epoch 6/30\n",
            "100/100 [==============================] - 1079s 11s/step - loss: 0.1300 - acc: 0.9545 - val_loss: 0.0901 - val_acc: 0.9630\n",
            "Epoch 7/30\n",
            "100/100 [==============================] - 1082s 11s/step - loss: 0.1271 - acc: 0.9490 - val_loss: 0.0754 - val_acc: 0.9730\n",
            "Epoch 8/30\n",
            "100/100 [==============================] - 1098s 11s/step - loss: 0.0958 - acc: 0.9670 - val_loss: 0.1495 - val_acc: 0.9480\n",
            "Epoch 9/30\n",
            "100/100 [==============================] - 1078s 11s/step - loss: 0.1045 - acc: 0.9605 - val_loss: 0.1090 - val_acc: 0.9720\n",
            "Epoch 10/30\n",
            "100/100 [==============================] - 1079s 11s/step - loss: 0.0863 - acc: 0.9710 - val_loss: 0.1343 - val_acc: 0.9450\n",
            "Epoch 11/30\n",
            "100/100 [==============================] - 1081s 11s/step - loss: 0.0760 - acc: 0.9735 - val_loss: 0.1160 - val_acc: 0.9600\n",
            "Epoch 12/30\n",
            "100/100 [==============================] - 1077s 11s/step - loss: 0.0811 - acc: 0.9690 - val_loss: 0.0797 - val_acc: 0.9720\n",
            "Epoch 13/30\n",
            "100/100 [==============================] - 1076s 11s/step - loss: 0.0645 - acc: 0.9770 - val_loss: 0.0939 - val_acc: 0.9650\n",
            "Epoch 14/30\n",
            "100/100 [==============================] - 1078s 11s/step - loss: 0.0719 - acc: 0.9770 - val_loss: 0.0780 - val_acc: 0.9760\n",
            "Epoch 15/30\n",
            "100/100 [==============================] - 1076s 11s/step - loss: 0.0612 - acc: 0.9750 - val_loss: 0.1503 - val_acc: 0.9500\n",
            "Epoch 16/30\n",
            "100/100 [==============================] - 1076s 11s/step - loss: 0.0603 - acc: 0.9785 - val_loss: 0.0920 - val_acc: 0.9710\n",
            "Epoch 17/30\n",
            "100/100 [==============================] - 1076s 11s/step - loss: 0.0524 - acc: 0.9790 - val_loss: 0.1378 - val_acc: 0.9580\n",
            "Epoch 18/30\n",
            "100/100 [==============================] - 1075s 11s/step - loss: 0.0454 - acc: 0.9835 - val_loss: 0.1112 - val_acc: 0.9720\n",
            "Epoch 19/30\n",
            "100/100 [==============================] - 1074s 11s/step - loss: 0.0469 - acc: 0.9820 - val_loss: 0.1197 - val_acc: 0.9700\n",
            "Epoch 20/30\n",
            "100/100 [==============================] - 1079s 11s/step - loss: 0.0445 - acc: 0.9865 - val_loss: 0.0969 - val_acc: 0.9680\n",
            "Epoch 21/30\n",
            "100/100 [==============================] - 1074s 11s/step - loss: 0.0352 - acc: 0.9865 - val_loss: 0.2978 - val_acc: 0.9390\n",
            "Epoch 22/30\n",
            "100/100 [==============================] - 1074s 11s/step - loss: 0.0431 - acc: 0.9835 - val_loss: 0.1740 - val_acc: 0.9530\n",
            "Epoch 23/30\n",
            "100/100 [==============================] - 1073s 11s/step - loss: 0.0437 - acc: 0.9875 - val_loss: 0.2023 - val_acc: 0.9530\n",
            "Epoch 24/30\n",
            "100/100 [==============================] - 1077s 11s/step - loss: 0.0362 - acc: 0.9875 - val_loss: 0.0749 - val_acc: 0.9790\n",
            "Epoch 25/30\n",
            "100/100 [==============================] - 1072s 11s/step - loss: 0.0488 - acc: 0.9820 - val_loss: 0.0859 - val_acc: 0.9740\n",
            "Epoch 26/30\n",
            "100/100 [==============================] - 1076s 11s/step - loss: 0.0356 - acc: 0.9885 - val_loss: 0.0864 - val_acc: 0.9740\n",
            "Epoch 27/30\n",
            "100/100 [==============================] - 1075s 11s/step - loss: 0.0605 - acc: 0.9800 - val_loss: 0.0732 - val_acc: 0.9780\n",
            "Epoch 28/30\n",
            "100/100 [==============================] - 1072s 11s/step - loss: 0.0389 - acc: 0.9880 - val_loss: 0.1385 - val_acc: 0.9580\n",
            "Epoch 29/30\n",
            "100/100 [==============================] - 1073s 11s/step - loss: 0.0319 - acc: 0.9910 - val_loss: 0.1153 - val_acc: 0.9740\n",
            "Epoch 30/30\n",
            "100/100 [==============================] - 1074s 11s/step - loss: 0.0476 - acc: 0.9840 - val_loss: 0.0789 - val_acc: 0.9830\n"
          ]
        }
      ],
      "source": [
        "history = model.fit_generator(\n",
        "      train_generator,\n",
        "      steps_per_epoch=100,\n",
        "      epochs=30,\n",
        "      validation_data=validation_generator,\n",
        "      validation_steps=50,\n",
        "      callbacks=[checkpoint_cb])"
      ]
    },
    {
      "cell_type": "code",
      "execution_count": null,
      "metadata": {
        "collapsed": true,
        "id": "ztyUJDEDUqYF",
        "outputId": "54043369-0fd8-49ff-fc22-fe8e55857e9d"
      },
      "outputs": [
        {
          "data": {
            "image/png": "[encoded data removed]",
            "text/plain": [
              "<Figure size 576x360 with 1 Axes>"
            ]
          },
          "metadata": {
            "needs_background": "light"
          },
          "output_type": "display_data"
        }
      ],
      "source": [
        "pd.DataFrame(history.history).plot(figsize=(8, 5))\n",
        "plt.grid(True)\n",
        "plt.gca().set_ylim(0, 1)\n",
        "plt.show()"
      ]
    },
    {
      "cell_type": "code",
      "execution_count": null,
      "metadata": {
        "id": "RplkJo3sUqYF"
      },
      "outputs": [],
      "source": [
        "hist_df = pd.DataFrame(history.history)"
      ]
    },
    {
      "cell_type": "code",
      "execution_count": null,
      "metadata": {
        "id": "OrvrTxSRUqYF"
      },
      "outputs": [],
      "source": [
        "hist_csv_file = 'history.csv'\n",
        "with open(hist_csv_file, mode='w') as f:\n",
        "    hist_df.to_csv(f)"
      ]
    },
    {
      "cell_type": "code",
      "execution_count": null,
      "metadata": {
        "collapsed": true,
        "id": "5E1ZYVM2UqYG",
        "outputId": "8a471c82-79b4-4cd3-8882-cd20b3ed0d63"
      },
      "outputs": [
        {
          "name": "stdout",
          "output_type": "stream",
          "text": [
            "Found 1000 images belonging to 2 classes.\n"
          ]
        }
      ],
      "source": [
        "test_generator = test_datagen.flow_from_directory(\n",
        "        test_dir,\n",
        "        target_size=(150, 150),\n",
        "        batch_size=20,\n",
        "        class_mode='binary')"
      ]
    },
    {
      "cell_type": "code",
      "execution_count": null,
      "metadata": {
        "collapsed": true,
        "id": "W3SkLYObUqYG",
        "outputId": "e3b593f9-76bc-40a4-f267-ac5ce4974a6f"
      },
      "outputs": [
        {
          "data": {
            "text/plain": [
              "[0.15674497428361064, 0.971]"
            ]
          },
          "execution_count": 21,
          "metadata": {},
          "output_type": "execute_result"
        }
      ],
      "source": [
        "model.evaluate_generator(test_generator, steps=50)"
      ]
    },
    {
      "cell_type": "code",
      "execution_count": null,
      "metadata": {
        "id": "Z1gG9ZVXUqYG"
      },
      "outputs": [],
      "source": []
    }
  ],
  "metadata": {
    "kernelspec": {
      "display_name": "Python 3",
      "language": "python",
      "name": "python3"
    },
    "language_info": {
      "codemirror_mode": {
        "name": "ipython",
        "version": 3
      },
      "file_extension": ".py",
      "mimetype": "text/x-python",
      "name": "python",
      "nbconvert_exporter": "python",
      "pygments_lexer": "ipython3",
      "version": "3.7.4"
    },
    "colab": {
      "provenance": [],
      "include_colab_link": true
    }
  },
  "nbformat": 4,
  "nbformat_minor": 0
}